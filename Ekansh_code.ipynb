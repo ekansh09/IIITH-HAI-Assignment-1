{
 "cells": [
  {
   "cell_type": "markdown",
   "metadata": {},
   "source": [
    "# Assignment (Healthcare and Artificial Intelligence)\n",
    "The objective of this assignment is to get you familiarize with  the  problems  of  `classification`  and  `verification`with a popular problem space of `face`\n",
    "\n",
    "This jupyter notebook is meant to be used in conjunction with the full questions in the assignment pdf.\n",
    "\n",
    "## Instructions\n",
    "- Write your code and analyses in the indicated cells.\n",
    "- Ensure that this notebook runs without errors when the cells are run in sequence.\n",
    "- Do not attempt to change the contents of the other cells.\n",
    "\n",
    "## Allowed Libraries\n",
    "- All libraries are allowed \n",
    "\n",
    "## Datasets \n",
    "- 3 datasets are provided. Load the data from the drive [link](!https://iiitaphyd-my.sharepoint.com/personal/manasa_k_research_iiit_ac_in/_layouts/15/onedrive.aspx?ct=1622206906840&or=OWA).\n",
    "- Unzip the downloaded file and store the files in a folder called `datasets`. Keep the `datasets` folder in the same directory as of the jupyter notebook \n",
    "\n",
    "## Submission\n",
    "- Ensure that this notebook runs without errors when the cells are run in sequence.\n",
    "- Rename the notebook to `name.ipynb` and submit the notebook file on Github Repo with plots/vizualizations saved.\n"
   ]
  },
  {
   "cell_type": "code",
   "execution_count": 1,
   "metadata": {},
   "outputs": [
    {
     "name": "stdout",
     "output_type": "stream",
     "text": [
      "Requirement already satisfied: scikit-learn in d:\\python\\envs\\gpu\\lib\\site-packages (0.24.2)\n",
      "Requirement already satisfied: matplotlib in d:\\python\\envs\\gpu\\lib\\site-packages (3.4.2)\n",
      "Requirement already satisfied: Pillow in d:\\python\\envs\\gpu\\lib\\site-packages (8.2.0)\n",
      "Requirement already satisfied: threadpoolctl>=2.0.0 in d:\\python\\envs\\gpu\\lib\\site-packages (from scikit-learn) (2.1.0)\n",
      "Requirement already satisfied: numpy>=1.13.3 in d:\\python\\envs\\gpu\\lib\\site-packages (from scikit-learn) (1.19.5)\n",
      "Requirement already satisfied: joblib>=0.11 in d:\\python\\envs\\gpu\\lib\\site-packages (from scikit-learn) (1.0.1)\n",
      "Requirement already satisfied: scipy>=0.19.1 in d:\\python\\envs\\gpu\\lib\\site-packages (from scikit-learn) (1.6.3)\n",
      "Requirement already satisfied: python-dateutil>=2.7 in d:\\python\\envs\\gpu\\lib\\site-packages (from matplotlib) (2.8.1)\n",
      "Requirement already satisfied: pyparsing>=2.2.1 in d:\\python\\envs\\gpu\\lib\\site-packages (from matplotlib) (2.4.7)\n",
      "Requirement already satisfied: kiwisolver>=1.0.1 in d:\\python\\envs\\gpu\\lib\\site-packages (from matplotlib) (1.3.1)\n",
      "Requirement already satisfied: cycler>=0.10 in d:\\python\\envs\\gpu\\lib\\site-packages (from matplotlib) (0.10.0)\n",
      "Requirement already satisfied: six in d:\\python\\envs\\gpu\\lib\\site-packages (from cycler>=0.10->matplotlib) (1.15.0)\n"
     ]
    }
   ],
   "source": [
    "# Installing Libraries\n",
    "!pip install scikit-learn matplotlib Pillow"
   ]
  },
  {
   "cell_type": "code",
   "execution_count": 2,
   "metadata": {},
   "outputs": [],
   "source": [
    "# Basic Imports\n",
    "import os\n",
    "import sys\n",
    "import warnings\n",
    "import numpy as  np\n",
    "import pandas as pd\n",
    "from scipy import linalg\n",
    "\n",
    "# Loading and plotting data\n",
    "from PIL import Image\n",
    "import matplotlib.pyplot as plt \n",
    "from mpl_toolkits.mplot3d import Axes3D\n",
    "\n",
    "# Features\n",
    "from sklearn.decomposition import PCA\n",
    "from sklearn.decomposition import KernelPCA\n",
    "from sklearn.discriminant_analysis import _class_means,_class_cov\n",
    "from sklearn.discriminant_analysis import LinearDiscriminantAnalysis as LDA\n",
    "from sklearn.manifold import TSNE\n",
    "\n",
    "from sklearn.neural_network import MLPClassifier\n",
    "from sklearn.linear_model import LogisticRegression\n",
    "from sklearn.metrics import confusion_matrix,precision_score, recall_score, f1_score\n",
    "from sklearn.model_selection import train_test_split\n",
    "from sklearn.neighbors import KNeighborsClassifier\n",
    "\n",
    "plt.ion()\n",
    "%matplotlib inline"
   ]
  },
  {
   "cell_type": "markdown",
   "metadata": {},
   "source": [
    "# Parameters\n",
    "- Image size: Bigger images create better representation but would require more computation. Choose the correct image size based on your Laptop configuration. \n",
    "- is_grayscale: Should you take grayscale images? Or rgb images? Choose whichever gives better representation for classification. "
   ]
  },
  {
   "cell_type": "code",
   "execution_count": 3,
   "metadata": {},
   "outputs": [],
   "source": [
    "opt = {\n",
    "    'image_size': 32,\n",
    "    'is_grayscale': True,\n",
    "    'val_split': 0.75\n",
    "}"
   ]
  },
  {
   "cell_type": "markdown",
   "metadata": {},
   "source": [
    "### Load Dataset"
   ]
  },
  {
   "cell_type": "code",
   "execution_count": 4,
   "metadata": {
    "editable": false
   },
   "outputs": [],
   "source": [
    "cfw_dict = {'Amitabhbachan': 0,\n",
    "    'AamirKhan': 1,\n",
    "    'DwayneJohnson': 2,\n",
    "    'AishwaryaRai': 3,\n",
    "    'BarackObama': 4,\n",
    "    'NarendraModi': 5,\n",
    "    'ManmohanSingh': 6,\n",
    "    'VladimirPutin': 7}\n",
    "\n",
    "imfdb_dict = {'MadhuriDixit': 0,\n",
    "     'Kajol': 1,\n",
    "     'SharukhKhan': 2,\n",
    "     'ShilpaShetty': 3,\n",
    "     'AmitabhBachan': 4,\n",
    "     'KatrinaKaif': 5,\n",
    "     'AkshayKumar': 6,\n",
    "     'Amir': 7}\n",
    "\n",
    "# Load Image using PIL for dataset\n",
    "def load_image(path):\n",
    "    im = Image.open(path).convert('L' if opt['is_grayscale'] else 'RGB')\n",
    "    im = im.resize((opt['image_size'],opt['image_size']))\n",
    "    im = np.array(im)\n",
    "    im = im/256\n",
    "    return im\n",
    "\n",
    "# Load the full data from directory\n",
    "def load_data(dir_path):\n",
    "    image_list = []\n",
    "    y_list = []\n",
    "    \n",
    "    if \"CFW\" in dir_path:\n",
    "        label_dict = cfw_dict\n",
    "\n",
    "    elif \"yale\" in dir_path.lower():\n",
    "        label_dict = {}\n",
    "        for i in range(15):\n",
    "            label_dict[str(i+1)] = i\n",
    "    elif \"IMFDB\" in dir_path:\n",
    "        label_dict = imfdb_dict\n",
    "    else:\n",
    "        raise KeyError(\"Dataset not found.\")\n",
    "    \n",
    "    \n",
    "    for filename in sorted(os.listdir(dir_path)):\n",
    "        if filename.endswith(\".png\"):\n",
    "            im = load_image(os.path.join(dir_path,filename))\n",
    "            y = filename.split('_')[0]\n",
    "            y = label_dict[y] \n",
    "            image_list.append(im)\n",
    "            y_list.append(y)\n",
    "        else:\n",
    "            continue\n",
    "\n",
    "    image_list = np.array(image_list)\n",
    "    y_list = np.array(y_list)\n",
    "\n",
    "    print(\"Dataset shape:\",image_list.shape)\n",
    "\n",
    "    return image_list,y_list\n",
    "\n",
    "# Display N Images in a nice format\n",
    "def disply_images(imgs,classes,row=1,col=2,w=64,h=64):\n",
    "    fig=plt.figure(figsize=(8, 8))\n",
    "    for i in range(1, col*row +1):\n",
    "        img = imgs[i-1]\n",
    "        fig.add_subplot(row, col, i)\n",
    "        \n",
    "        if opt['is_grayscale']:\n",
    "            plt.imshow(img , cmap='gray') \n",
    "        else:\n",
    "            plt.imshow(img)\n",
    "        \n",
    "        plt.title(\"Class:{}\".format(classes[i-1]))\n",
    "        plt.axis('off')\n",
    "    plt.show()"
   ]
  },
  {
   "cell_type": "code",
   "execution_count": 5,
   "metadata": {},
   "outputs": [
    {
     "name": "stdout",
     "output_type": "stream",
     "text": [
      "Dataset shape: (400, 32, 32)\n"
     ]
    }
   ],
   "source": [
    "# Loading the dataset\n",
    "# eg.\n",
    "dirpath = './dataset/IMFDB/'\n",
    "X,y = load_data(dirpath)\n",
    "N,H,W = X.shape[0:3]\n",
    "C = 1 if opt['is_grayscale'] else X.shape[3]"
   ]
  },
  {
   "cell_type": "code",
   "execution_count": 6,
   "metadata": {
    "editable": false,
    "scrolled": true
   },
   "outputs": [
    {
     "data": {
      "image/png": "[encoded data removed]",
      "text/plain": [
       "<Figure size 576x576 with 6 Axes>"
      ]
     },
     "metadata": {
      "needs_background": "light"
     },
     "output_type": "display_data"
    }
   ],
   "source": [
    "# Show sample images\n",
    "ind = np.random.randint(0,y.shape[0],6)\n",
    "disply_images(X[ind,...],y[ind], row=2,col=3)"
   ]
  },
  {
   "cell_type": "code",
   "execution_count": null,
   "metadata": {},
   "outputs": [],
   "source": []
  },
  {
   "cell_type": "code",
   "execution_count": 7,
   "metadata": {},
   "outputs": [
    {
     "name": "stdout",
     "output_type": "stream",
     "text": [
      "Dataset shape: (672, 32, 32)\n"
     ]
    }
   ],
   "source": [
    "dirpath = './dataset/IIIT-CFW/'\n",
    "X_1,y_1 = load_data(dirpath)\n",
    "N_1,H_1,W_1 = X_1.shape[0:3]\n",
    "C = 1 if opt['is_grayscale'] else X_1.shape[3]"
   ]
  },
  {
   "cell_type": "code",
   "execution_count": 8,
   "metadata": {},
   "outputs": [
    {
     "data": {
      "image/png": "[encoded data removed]",
      "text/plain": [
       "<Figure size 576x576 with 6 Axes>"
      ]
     },
     "metadata": {
      "needs_background": "light"
     },
     "output_type": "display_data"
    }
   ],
   "source": [
    "# Show sample images\n",
    "ind = np.random.randint(0,y_1.shape[0],6)\n",
    "disply_images(X_1[ind,...],y_1[ind], row=2,col=3)"
   ]
  },
  {
   "cell_type": "code",
   "execution_count": 9,
   "metadata": {},
   "outputs": [
    {
     "name": "stdout",
     "output_type": "stream",
     "text": [
      "Dataset shape: (165, 32, 32)\n"
     ]
    }
   ],
   "source": [
    "dirpath = './dataset/Yale_face_database/'\n",
    "X_2,y_2 = load_data(dirpath)\n",
    "N_2,H_2,W_2 = X_2.shape[0:3]\n",
    "C = 1 if opt['is_grayscale'] else X_2.shape[3]"
   ]
  },
  {
   "cell_type": "code",
   "execution_count": 10,
   "metadata": {},
   "outputs": [
    {
     "data": {
      "image/png": "[encoded data removed]",
      "text/plain": [
       "<Figure size 576x576 with 6 Axes>"
      ]
     },
     "metadata": {
      "needs_background": "light"
     },
     "output_type": "display_data"
    }
   ],
   "source": [
    "# Show sample images\n",
    "ind = np.random.randint(0,y_2.shape[0],6)\n",
    "disply_images(X_2[ind,...],y_2[ind], row=2,col=3)"
   ]
  },
  {
   "cell_type": "markdown",
   "metadata": {},
   "source": [
    "# Features\n",
    "    You are provided 6 Features. These features are:\n",
    "   - Eigen Faces / PCA \n",
    "   - Kernel PCA\n",
    "   - Fisher Face / LDA\n",
    "   - Kernel Fisher Face\n",
    "   - VGG Features \n",
    "   - Resnet Features\n",
    "\n",
    "\n",
    "---\n"
   ]
  },
  {
   "cell_type": "code",
   "execution_count": 11,
   "metadata": {
    "editable": false
   },
   "outputs": [],
   "source": [
    "# Flatten to apply PCA/LDA\n",
    "X = X.reshape((N,H*W*C))"
   ]
  },
  {
   "cell_type": "code",
   "execution_count": 12,
   "metadata": {},
   "outputs": [],
   "source": [
    "X_1 = X_1.reshape((N_1,H_1*W_1*C))"
   ]
  },
  {
   "cell_type": "code",
   "execution_count": 13,
   "metadata": {},
   "outputs": [],
   "source": [
    "X_2 = X_2.reshape((N_2,H_2*W_2*C))"
   ]
  },
  {
   "cell_type": "code",
   "execution_count": 14,
   "metadata": {},
   "outputs": [],
   "source": [
    "dirpath = './dataset/IMFDB/'\n",
    "dirpath1 = './dataset/IIIT-CFW/'\n",
    "dirpath2 = './dataset/Yale_face_database/'"
   ]
  },
  {
   "cell_type": "code",
   "execution_count": null,
   "metadata": {},
   "outputs": [],
   "source": []
  },
  {
   "cell_type": "markdown",
   "metadata": {},
   "source": [
    "###  1. Eigen Face:\n",
    "Use principal component analysis to get the eigen faces. \n",
    "Go through the [documentation](!http://scikit-learn.org/stable/modules/generated/sklearn.decomposition.PCA.html) on how to use it"
   ]
  },
  {
   "cell_type": "code",
   "execution_count": 15,
   "metadata": {},
   "outputs": [],
   "source": [
    "def get_pca(X,k):\n",
    "    pca = PCA(n_components = k) # this is like scaling of transform data will be done if whiten = True\n",
    "    X_k = pca.fit_transform(X)\n",
    "    \n",
    "    return X_k, pca\n"
   ]
  },
  {
   "cell_type": "markdown",
   "metadata": {},
   "source": [
    "###  2. Kernel Face:\n",
    "Use Kernel principal component analysis to get the eigen faces. \n",
    "\n",
    "There are different kernels that can be used. Eg. Poly, rbf, sigmoid. Choose the whichever gives the best result or representation. See [link](!https://data-flair.training/blogs/svm-kernel-functions/) for better understanding of these kernels  \n",
    "\n",
    "Go through the [documentation](!https://scikit-learn.org/stable/modules/generated/sklearn.decomposition.KernelPCA.html#sklearn.decomposition.KernelPCA) on how to use it different kernels in Sklearn. "
   ]
  },
  {
   "cell_type": "code",
   "execution_count": 16,
   "metadata": {},
   "outputs": [],
   "source": [
    "def get_kernel_pca(X, k,kernel='rbf', degree=3):\n",
    "    \n",
    "    kpca = KernelPCA(n_components=k, kernel=kernel, degree =degree )\n",
    "    X_k = pca.fit_transform(X)\n",
    "\n",
    "    \"\"\"\n",
    "        Get PCA of K dimension using the top eigen vectors \n",
    "        @param: X => Your data flattened to D dimension\n",
    "        @param: k => Number of components\n",
    "        @param: kernel => which kernel to use (“linear” | “poly” | “rbf” | “sigmoid” | “cosine” )\n",
    "        @param: d => Degree for poly kernels. Ignored by other kernels\n",
    "    \"\"\"\n",
    "    return X_k, kpca"
   ]
  },
  {
   "cell_type": "markdown",
   "metadata": {},
   "source": [
    "### 3. Fisher Face\n",
    "Another method similar to the eigenface technique is `fisherfaces` which uses linear discriminant analysis.\n",
    "\n",
    "\n",
    "Go through the [documentation](!https://scikit-learn.org/stable/modules/generated/sklearn.discriminant_analysis.LinearDiscriminantAnalysis.html) on how to use it different kernels in Sklearn. "
   ]
  },
  {
   "cell_type": "code",
   "execution_count": 17,
   "metadata": {},
   "outputs": [],
   "source": [
    "def get_lda(X,y, k):\n",
    "    \n",
    "    \n",
    "    lda = LDA(n_components=k)\n",
    "    X_k = lda.fit_transform(X,y)\n",
    "    \n",
    "    \"\"\"\n",
    "        Get LDA of K dimension \n",
    "        @param: X => Your data flattened to D dimension\n",
    "        @param: k => Number of components\n",
    "    \"\"\"\n",
    "    \n",
    "    return X_k, lda"
   ]
  },
  {
   "cell_type": "markdown",
   "metadata": {},
   "source": [
    "### 4. Kernel Fisher Face\n",
    "Use LDA using different kernels similiar to KernelPCA. Here the input is directly transformed instead of using the kernel trick.  "
   ]
  },
  {
   "cell_type": "code",
   "execution_count": 18,
   "metadata": {},
   "outputs": [],
   "source": [
    "def get_kernel_lda(X,y,k,kernel='rbf',degree=3):\n",
    "    \n",
    "    if kernel == \"poly\":\n",
    "        X_transformed = X**degree\n",
    "    elif kernel == \"rbf\":\n",
    "        var = np.var(X)\n",
    "        X_transformed= np.exp(-X/(2*var))\n",
    "    elif kernel == \"sigmoid\":\n",
    "        X_transformed = np.tanh(X)\n",
    "    else: \n",
    "        raise NotImplementedError(\"Kernel {} Not defined\".format(kernel))\n",
    "    \n",
    "    klda = LDA(n_components=k)\n",
    "    X_k = klda.fit_transform(X_transformed,y)\n",
    "    \n",
    "    \"\"\"\n",
    "        Get LDA of K dimension \n",
    "        @param: X => Your data flattened to D dimension\n",
    "        @param: k => Number of components\n",
    "        @param: kernel => which kernel to use ( “poly” | “rbf” | “sigmoid”)\n",
    "    \"\"\"\n",
    "    \n",
    "    return X_k, klda"
   ]
  },
  {
   "cell_type": "markdown",
   "metadata": {},
   "source": [
    "### 5. VGG Features\n",
    "VGG Neural Networks a 19 layer CNN architecture introduced by Andrew Zisserman([Link](!https://arxiv.org/pdf/1409.1556.pdf) to paper). We are providing you with the last fully connected layer of this model.\n"
   ]
  },
  {
   "cell_type": "code",
   "execution_count": 19,
   "metadata": {},
   "outputs": [],
   "source": [
    "def get_vgg_features(dirpath):\n",
    "    features = np.load(os.path.join(dirpath,\"VGG19_features.npy\"))\n",
    "    return features"
   ]
  },
  {
   "cell_type": "markdown",
   "metadata": {},
   "source": [
    "### 6. Resnet Features\n",
    "\n",
    "[Residual neural networks](!https://arxiv.org/pdf/1512.03385.pdf) are CNN with large depth, to effectively train these netwrorks they utilize skip connections, or short-cuts to jump over some layers. This helps solving [vanishing gradient problem](!https://en.wikipedia.org/wiki/Vanishing_gradient_problem) \n",
    "\n"
   ]
  },
  {
   "cell_type": "code",
   "execution_count": 20,
   "metadata": {},
   "outputs": [],
   "source": [
    "def get_resnet_features(dirpath):\n",
    "    features = np.load(os.path.join(dirpath,\"resnet50_features.npy\"))\n",
    "    return features"
   ]
  },
  {
   "cell_type": "markdown",
   "metadata": {},
   "source": [
    "# Questions\n",
    "\n",
    "1(a). What are eigen faces? \n"
   ]
  },
  {
   "cell_type": "markdown",
   "metadata": {},
   "source": [
    "1(b). How many eigen vectors/faces are required to “satisfactorily” reconstruct a  person  in  these  three  datasets? (Don’t  forget  to make your argument based on eigen value spectrum) Show appropriate graphs, qualitative examples and make a convincing argument.\n",
    "   "
   ]
  },
  {
   "cell_type": "markdown",
   "metadata": {},
   "source": [
    "1(c). Reconstruct  the  image  back for each case\n"
   ]
  },
  {
   "cell_type": "code",
   "execution_count": 21,
   "metadata": {},
   "outputs": [],
   "source": [
    "def reconstruct_images(eigenvectors, X, k, title):\n",
    "\n",
    "    X_k, pca = get_pca(X,k)\n",
    "    plt.plot(np.cumsum(pca.explained_variance_ratio_))\n",
    "    plt.xlabel('number of components')\n",
    "    plt.title(title)\n",
    "    plt.ylabel('cumulative explained variance ratio')\n",
    "    plt.show()\n",
    "    reconstruct_X = pca.inverse_transform(X_k)\n",
    "\n",
    "    \n",
    "    \"\"\"\n",
    "        Reconstruct the images back by just using the selected principal components. \n",
    "\n",
    "\n",
    "        You have to write the code in this code block.\n",
    "        You can change the functions provided above (eg, get_pca, get_lda) for your use case. \n",
    "            \n",
    "        @params: \n",
    "                Input parameters\n",
    "\n",
    "        @return reconstructed_X => reconstructed image\n",
    "        \n",
    "    \"\"\"\n",
    "    \n",
    "    return X_k, reconstruct_X    "
   ]
  },
  {
   "cell_type": "code",
   "execution_count": 22,
   "metadata": {},
   "outputs": [
    {
     "data": {
      "image/png": "[encoded data removed]",
      "text/plain": [
       "<Figure size 432x288 with 1 Axes>"
      ]
     },
     "metadata": {
      "needs_background": "light"
     },
     "output_type": "display_data"
    },
    {
     "name": "stdout",
     "output_type": "stream",
     "text": [
      "IMFDB\n"
     ]
    },
    {
     "data": {
      "image/png": "[encoded data removed]",
      "text/plain": [
       "<Figure size 576x576 with 6 Axes>"
      ]
     },
     "metadata": {
      "needs_background": "light"
     },
     "output_type": "display_data"
    },
    {
     "name": "stdout",
     "output_type": "stream",
     "text": [
      "Reconstruction Error:0.03627918546920793\n"
     ]
    }
   ],
   "source": [
    "X_k, reconstruct_X = reconstruct_images(_,X,0.95, 'IMFDB')\n",
    "X_reconstruced = reconstruct_X.reshape((N,H,W))\n",
    "print(\"IMFDB\")\n",
    "ind = np.random.randint(0,y.shape[0],6)\n",
    "disply_images(X_reconstruced[ind,...],y[ind], row=2,col=3)\n",
    "print(\"Reconstruction Error:\"+ str(np.sqrt(np.mean((X - reconstruct_X)**2))))\n"
   ]
  },
  {
   "cell_type": "code",
   "execution_count": 23,
   "metadata": {},
   "outputs": [
    {
     "data": {
      "image/png": "[encoded data removed]",
      "text/plain": [
       "<Figure size 432x288 with 1 Axes>"
      ]
     },
     "metadata": {
      "needs_background": "light"
     },
     "output_type": "display_data"
    },
    {
     "name": "stdout",
     "output_type": "stream",
     "text": [
      "IIIT-CFW\n"
     ]
    },
    {
     "data": {
      "image/png": "[encoded data removed]",
      "text/plain": [
       "<Figure size 576x576 with 6 Axes>"
      ]
     },
     "metadata": {
      "needs_background": "light"
     },
     "output_type": "display_data"
    },
    {
     "name": "stdout",
     "output_type": "stream",
     "text": [
      "Reconstruction Error:0.05985837413599591\n"
     ]
    }
   ],
   "source": [
    "X_k, reconstruct_X = reconstruct_images(_,X_1,0.95, 'IIIT-CFW')\n",
    "X_reconstruced = reconstruct_X.reshape((N_1,H_1,W_1))\n",
    "print(\"IIIT-CFW\")\n",
    "ind = np.random.randint(0,y_1.shape[0],6)\n",
    "disply_images(X_reconstruced[ind,...],y_1[ind], row=2,col=3)\n",
    "print(\"Reconstruction Error:\"+ str(np.sqrt(np.mean((X_1 - reconstruct_X)**2))))\n"
   ]
  },
  {
   "cell_type": "code",
   "execution_count": 24,
   "metadata": {},
   "outputs": [
    {
     "data": {
      "image/png": "[encoded data removed]",
      "text/plain": [
       "<Figure size 432x288 with 1 Axes>"
      ]
     },
     "metadata": {
      "needs_background": "light"
     },
     "output_type": "display_data"
    },
    {
     "name": "stdout",
     "output_type": "stream",
     "text": [
      "Yale\n"
     ]
    },
    {
     "data": {
      "image/png": "[encoded data removed]",
      "text/plain": [
       "<Figure size 576x576 with 6 Axes>"
      ]
     },
     "metadata": {
      "needs_background": "light"
     },
     "output_type": "display_data"
    },
    {
     "name": "stdout",
     "output_type": "stream",
     "text": [
      "Reconstruction Error:0.050869561259709234\n"
     ]
    }
   ],
   "source": [
    "X_k, reconstruct_X = reconstruct_images(_,X_2,38, 'Yale')\n",
    "X_reconstruced = reconstruct_X.reshape((N_2,H_2,W_2))\n",
    "print(\"Yale\")\n",
    "\n",
    "ind = np.random.randint(0,y_2.shape[0],6)\n",
    "disply_images(X_reconstruced[ind,...],y_2[ind], row=2,col=3)\n",
    "print(\"Reconstruction Error:\"+ str(np.sqrt(np.mean((X_2 - reconstruct_X)**2))))\n"
   ]
  },
  {
   "cell_type": "markdown",
   "metadata": {},
   "source": [
    "1(d). Which person/identity is difficult to represent compactly with fewer eigen vectors?  Why is that?  Explain with your empirical observations and intuitive answers\n",
    " "
   ]
  },
  {
   "cell_type": "code",
   "execution_count": 25,
   "metadata": {},
   "outputs": [
    {
     "name": "stdout",
     "output_type": "stream",
     "text": [
      "IMFDB\n",
      "Class reconstruction error 0 : 0.032856860984376644\n",
      "Class reconstruction error 1 : 0.03623852309655489\n",
      "Class reconstruction error 2 : 0.03516817471186626\n",
      "Class reconstruction error 3 : 0.03790348400886258\n",
      "Class reconstruction error 4 : 0.03767651009387202\n",
      "Class reconstruction error 5 : 0.0356873097445959\n",
      "Class reconstruction error 6 : 0.03704724712853208\n",
      "Class reconstruction error 7 : 0.03738387211713038\n"
     ]
    },
    {
     "data": {
      "image/png": "[encoded data removed]",
      "text/plain": [
       "<Figure size 432x288 with 1 Axes>"
      ]
     },
     "metadata": {
      "needs_background": "light"
     },
     "output_type": "display_data"
    },
    {
     "name": "stdout",
     "output_type": "stream",
     "text": [
      "Max reconstruction error for class: 3\n",
      "\n",
      "IIIT-CFM\n",
      "Class reconstruction error 0 : 0.05479198611338655\n",
      "Class reconstruction error 1 : 0.06089849617848549\n",
      "Class reconstruction error 2 : 0.05353075391320588\n",
      "Class reconstruction error 3 : 0.056668816917913145\n",
      "Class reconstruction error 4 : 0.060118518094467256\n",
      "Class reconstruction error 5 : 0.06440049401200654\n",
      "Class reconstruction error 6 : 0.06344739104648892\n",
      "Class reconstruction error 7 : 0.06103069750340078\n"
     ]
    },
    {
     "data": {
      "image/png": "[encoded data removed]",
      "text/plain": [
       "<Figure size 432x288 with 1 Axes>"
      ]
     },
     "metadata": {
      "needs_background": "light"
     },
     "output_type": "display_data"
    },
    {
     "name": "stdout",
     "output_type": "stream",
     "text": [
      "Max reconstruction error for class: 5\n",
      "\n",
      "Yale\n",
      "Class reconstruction error 0 : 0.05360284813858893\n",
      "Class reconstruction error 1 : 0.050394687871534\n",
      "Class reconstruction error 2 : 0.05499861723550433\n",
      "Class reconstruction error 3 : 0.04935457304519462\n",
      "Class reconstruction error 4 : 0.045570404551651386\n",
      "Class reconstruction error 5 : 0.049947977219107216\n",
      "Class reconstruction error 6 : 0.05268022112390524\n",
      "Class reconstruction error 7 : 0.05560190857762522\n"
     ]
    },
    {
     "data": {
      "image/png": "[encoded data removed]",
      "text/plain": [
       "<Figure size 432x288 with 1 Axes>"
      ]
     },
     "metadata": {
      "needs_background": "light"
     },
     "output_type": "display_data"
    },
    {
     "name": "stdout",
     "output_type": "stream",
     "text": [
      "Max reconstruction error for class: 7\n"
     ]
    }
   ],
   "source": [
    "# Doing for Yale : \n",
    "print('IMFDB')\n",
    "X_k, pca = get_pca(X, 0.95)\n",
    "errs = []\n",
    "for i in range(8):\n",
    "    # get the projected class data\n",
    "    class_data = X_k[y==i]\n",
    "    # Reconstructed data from k dimensions\n",
    "    rec_class = pca.inverse_transform(class_data)\n",
    "    # Show the reconstruction error\n",
    "    er = np.sqrt(np.mean((X[y==i] - rec_class)**2))\n",
    "    print(\"Class reconstruction error\",i,\":\",er)\n",
    "    errs.append(er)\n",
    "errs = np.array(errs)\n",
    "plt.plot(errs)\n",
    "plt.title('IMFDB')\n",
    "plt.ylabel('Reconstruction Loss')\n",
    "plt.xlabel('Classes')\n",
    "plt.show()\n",
    "\n",
    "max_err_class = np.argmax(errs)\n",
    "print(\"Max reconstruction error for class:\",max_err_class)\n",
    "\n",
    "# Doing for IIIT-CFM : \n",
    "print('\\nIIIT-CFM')\n",
    "X_k,pca_1 = get_pca(X_1, 0.95)\n",
    "errs1 = []\n",
    "for i in range(8):\n",
    "    # get the projected class data\n",
    "    class_data = X_k[y_1==i]\n",
    "    # Reconstructed data from k dimensions\n",
    "    rec_class = pca_1.inverse_transform(class_data)\n",
    "    # Show the reconstruction error\n",
    "    er = np.sqrt(np.mean((X_1[y_1==i] - rec_class)**2))\n",
    "    print(\"Class reconstruction error\",i,\":\",er)\n",
    "    errs1.append(er)\n",
    "errs1 = np.array(errs1)\n",
    "plt.plot(errs1)\n",
    "plt.title('IIIT-CFW')\n",
    "plt.ylabel('Reconstruction Loss')\n",
    "plt.xlabel('Classes')\n",
    "plt.show()\n",
    "max_err_class1 = np.argmax(errs1)\n",
    "print(\"Max reconstruction error for class:\",max_err_class1)   \n",
    "\n",
    "# Doing for Yale : \n",
    "print('\\nYale')\n",
    "X_k,pca_2 = get_pca(X_2, 0.95)\n",
    "errs2 = []\n",
    "for i in range(8):\n",
    "    # get the projected class data\n",
    "    class_data = X_k[y_2==i]\n",
    "    # Reconstructed data from k dimensions\n",
    "    rec_class = pca_2.inverse_transform(class_data)\n",
    "    # Show the reconstruction error\n",
    "    er = np.sqrt(np.mean((X_2[y_2==i] - rec_class)**2))\n",
    "    print(\"Class reconstruction error\",i,\":\",er)\n",
    "    errs2.append(er)\n",
    "errs2 = np.array(errs2)\n",
    "plt.plot(errs2)\n",
    "plt.title('Yale')\n",
    "plt.ylabel('Reconstruction Loss')\n",
    "plt.xlabel('Classes')\n",
    "plt.show()\n",
    "\n",
    "max_err_class2 = np.argmax(errs2)\n",
    "print(\"Max reconstruction error for class:\",max_err_class2)"
   ]
  },
  {
   "cell_type": "markdown",
   "metadata": {},
   "source": [
    "2(a) Use any classifier(MLP, Logistic regression, SVM, Decision Trees) and find the classification accuracy. Write code from scratch making Classifer as a class and functions of training, validation and confusion matrix etc.\n",
    "\n",
    "2(b) Which method works well? Do a comparitive study. \n",
    "\n"
   ]
  },
  {
   "cell_type": "code",
   "execution_count": null,
   "metadata": {},
   "outputs": [],
   "source": []
  },
  {
   "cell_type": "code",
   "execution_count": 26,
   "metadata": {},
   "outputs": [],
   "source": [
    "## MLP\n",
    "\n",
    "class MLPCLASS():\n",
    "    def __init__(self, hidden_layers, max_iter):\n",
    "        self.model = MLPClassifier(hidden_layer_sizes=hidden_layers, max_iter=max_iter,activation = 'relu',solver='adam',random_state=1)\n",
    "        \n",
    "        \n",
    "    def training(self,X_train, y_train):\n",
    "        self.model.fit(X_train,y_train)\n",
    "\n",
    "        \n",
    "    def validate(self,X_test,y_test ):\n",
    "        y_pred = self.model.predict(X_test)\n",
    "        test_accuracy, cm = self.confusion_matrix(X_test, y_test, y_pred )\n",
    "        return test_accuracy, cm\n",
    "    \n",
    "    def confusion_matrix(self,X_test,y_test, y_pred):\n",
    "        cm = confusion_matrix(y_test,y_pred)\n",
    "        test_accuracy= self.model.score(X_test,y_test)\n",
    "        return test_accuracy, cm\n"
   ]
  },
  {
   "cell_type": "code",
   "execution_count": 27,
   "metadata": {},
   "outputs": [],
   "source": [
    "def MLP(X,y, hidden_layers, max_iter):\n",
    "    X_train, X_test,y_train,y_test = train_test_split(X,y, test_size = 0.25, random_state = 1)\n",
    "    obj = MLPCLASS(hidden_layers,max_iter)\n",
    "    obj.training(X_train, y_train)\n",
    "    test_accuracy, cm = obj.validate(X_test,y_test)\n",
    "    return test_accuracy, cm"
   ]
  },
  {
   "cell_type": "code",
   "execution_count": 28,
   "metadata": {},
   "outputs": [
    {
     "name": "stdout",
     "output_type": "stream",
     "text": [
      "Raw IMFDW with MLP : 75.0\n",
      "Raw IIIT-CFW with MLP : 41.66666666666667\n",
      "Raw YALE with MLP : 95.23809523809523\n"
     ]
    }
   ],
   "source": [
    "test_accuracy, cm = MLP(X,y, (1000,1000),350)\n",
    "print(\"Raw IMFDW with MLP : \" + str(test_accuracy*100))\n",
    "\n",
    "test_accuracy, cm = MLP(X_1,y_1, (1000,1000),350)\n",
    "print(\"Raw IIIT-CFW with MLP : \" + str(test_accuracy*100))\n",
    "\n",
    "test_accuracy, cm = MLP(X_2,y_2, (1000,1000),350)\n",
    "print(\"Raw YALE with MLP : \" + str(test_accuracy*100))"
   ]
  },
  {
   "cell_type": "code",
   "execution_count": 29,
   "metadata": {},
   "outputs": [],
   "source": [
    "## MLP with PCA\n",
    "\n",
    "def MLP_PCA(X, y, k , hidden_layers, max_iter):\n",
    "    X_k, pca = get_pca(X,k)\n",
    "    test_accuracy, cm = MLP(X_k,y,hidden_layers,max_iter )\n",
    "    return test_accuracy, cm\n",
    "\n",
    "\n",
    "## MLP with LDA\n",
    "\n",
    "def MLP_LDA(X, y, k , hidden_layers, max_iter):\n",
    "    X_k, lda = get_lda(X,y,k)\n",
    "    test_accuracy, cm = MLP(X_k, y,hidden_layers,max_iter )\n",
    "    return test_accuracy, cm\n",
    "\n",
    "\n",
    "## MLP with KPCA\n",
    "\n",
    "def MLP_KPCA(X, y, k , hidden_layers, max_iter):\n",
    "    X_k, pca = get_kernel_pca(X,k)\n",
    "    test_accuracy, cm = MLP(X_k, y,hidden_layers,max_iter )\n",
    "    return test_accuracy, cm\n",
    "\n",
    "## MLP with KLDA\n",
    "\n",
    "def MLP_KLDA(X, y, k , hidden_layers, max_iter):\n",
    "    X_k, lda = get_kernel_lda(X,y,k)\n",
    "    test_accuracy, cm = MLP(X_k, y,hidden_layers,max_iter )\n",
    "    return test_accuracy, cm\n",
    "\n",
    "## MLP with VGG_Face\n",
    "\n",
    "def MLP_VGG(dirpath, y, hidden_layers, max_iter):\n",
    "    \n",
    "    X_k = get_vgg_features(dirpath)\n",
    "    test_accuracy, cm = MLP(X_k, y,hidden_layers,max_iter)\n",
    "    return test_accuracy, cm\n",
    "\n",
    "## MLP with ResNet_Face\n",
    "\n",
    "def MLP_ResNet(dirpath, y, hidden_layers, max_iter):\n",
    "    X_k = get_resnet_features(dirpath)\n",
    "    test_accuracy, cm = MLP(X_k, y,hidden_layers,max_iter)\n",
    "    return test_accuracy, cm"
   ]
  },
  {
   "cell_type": "code",
   "execution_count": 30,
   "metadata": {},
   "outputs": [
    {
     "name": "stdout",
     "output_type": "stream",
     "text": [
      " IMFDB :\n",
      "PCA with MLP : 74.0\n",
      "LDA with MLP : 97.0\n",
      "VGG with MLP : 87.0\n",
      "ResNet with MLP : 97.0\n",
      "Kernel PCA with MLP : 74.0\n",
      "Kernel LDA with MLP : 99.0\n",
      "VGG + PCA with MLP : 89.0\n",
      "ResNet + PCA with MLP : 97.0\n",
      "VGG + LDA with MLP : 100.0\n",
      "ResNet + LDA with MLP : 100.0\n",
      "VGG + Kernel PCA with MLP : 89.0\n",
      "ResNet + Kernel PCA with MLP : 97.0\n",
      "VGG + Kernel LDA with MLP : 99.0\n",
      "ResNet + Kernel LDA with MLP : 100.0\n"
     ]
    }
   ],
   "source": [
    "## For IMFDB\n",
    "\n",
    "print(' IMFDB :')\n",
    "acc =[]\n",
    "lbl= []\n",
    "test_accuracy, cm = MLP_PCA(X,y, 0.95, (1000,1000),350)\n",
    "print(\"PCA with MLP : \" + str(test_accuracy*100))\n",
    "acc.append(test_accuracy*100)\n",
    "lbl.append('PCA')\n",
    "\n",
    "test_accuracy, cm = MLP_LDA(X,y, None, (1000,1000),350)\n",
    "print(\"LDA with MLP : \" + str(test_accuracy*100))\n",
    "acc.append(test_accuracy*100)\n",
    "lbl.append('LDA')\n",
    "\n",
    "test_accuracy, cm = MLP_VGG(dirpath,y, (1000,1000),350)\n",
    "print(\"VGG with MLP : \" + str(test_accuracy*100))\n",
    "acc.append(test_accuracy*100)\n",
    "lbl.append('VGG')\n",
    "\n",
    "test_accuracy, cm = MLP_ResNet(dirpath,y, (1000,1000),350)\n",
    "print(\"ResNet with MLP : \" + str(test_accuracy*100))\n",
    "acc.append(test_accuracy*100)\n",
    "lbl.append('ResNet')\n",
    "\n",
    "test_accuracy, cm = MLP_KPCA(X,y, 0.95, (1000,1000),350)\n",
    "print(\"Kernel PCA with MLP : \" + str(test_accuracy*100))\n",
    "acc.append(test_accuracy*100)\n",
    "lbl.append('Kernel PCA')\n",
    "\n",
    "test_accuracy, cm = MLP_KLDA(X,y, None, (1000,1000),350)\n",
    "print(\"Kernel LDA with MLP : \" + str(test_accuracy*100))\n",
    "acc.append(test_accuracy*100)\n",
    "lbl.append('Kernel LDA')\n",
    "\n",
    "X_k = get_vgg_features(dirpath)\n",
    "test_accuracy, cm = MLP_PCA(X_k,y, 0.95, (1000,1000),350)\n",
    "print(\"VGG + PCA with MLP : \" + str(test_accuracy*100))\n",
    "acc.append(test_accuracy*100)\n",
    "lbl.append('VGG + PCA')\n",
    "\n",
    "X_k = get_resnet_features(dirpath)\n",
    "test_accuracy, cm = MLP_PCA(X_k,y, 0.95, (1000,1000),350)\n",
    "print(\"ResNet + PCA with MLP : \" + str(test_accuracy*100))\n",
    "acc.append(test_accuracy*100)\n",
    "lbl.append('ResNet + PCA')\n",
    "\n",
    "\n",
    "X_k = get_vgg_features(dirpath)\n",
    "test_accuracy, cm = MLP_LDA(X_k,y, None, (1000,1000),350)\n",
    "print(\"VGG + LDA with MLP : \" + str(test_accuracy*100))\n",
    "acc.append(test_accuracy*100)\n",
    "lbl.append('VGG + LDA')\n",
    "\n",
    "X_k = get_resnet_features(dirpath)\n",
    "test_accuracy, cm = MLP_LDA(X_k,y, None, (1000,1000),350)\n",
    "print(\"ResNet + LDA with MLP : \" + str(test_accuracy*100))\n",
    "acc.append(test_accuracy*100)\n",
    "lbl.append('ResNet + LDA')\n",
    "\n",
    "X_k = get_vgg_features(dirpath)\n",
    "test_accuracy, cm = MLP_KPCA(X_k,y, 0.95, (1000,1000),350)\n",
    "print(\"VGG + Kernel PCA with MLP : \" + str(test_accuracy*100))\n",
    "acc.append(test_accuracy*100)\n",
    "lbl.append('VGG + Kernel PCA')\n",
    "\n",
    "X_k = get_resnet_features(dirpath)\n",
    "test_accuracy, cm = MLP_KPCA(X_k,y, 0.95, (1000,1000),350)\n",
    "print(\"ResNet + Kernel PCA with MLP : \" + str(test_accuracy*100))\n",
    "acc.append(test_accuracy*100)\n",
    "lbl.append('ResNet + Kernel PCA')\n",
    "\n",
    "X_k = get_vgg_features(dirpath)\n",
    "test_accuracy, cm = MLP_KLDA(X_k,y, None, (1000,1000),350)\n",
    "print(\"VGG + Kernel LDA with MLP : \" + str(test_accuracy*100))\n",
    "acc.append(test_accuracy*100)\n",
    "lbl.append('VGG + Kernel LDA')\n",
    "\n",
    "X_k = get_resnet_features(dirpath)\n",
    "test_accuracy, cm = MLP_KLDA(X_k,y, None, (1000,1000),350)\n",
    "print(\"ResNet + Kernel LDA with MLP : \" + str(test_accuracy*100))\n",
    "acc.append(test_accuracy*100)\n",
    "lbl.append('ResNet + Kernel LDA')\n",
    "\n"
   ]
  },
  {
   "cell_type": "code",
   "execution_count": 31,
   "metadata": {},
   "outputs": [
    {
     "data": {
      "text/plain": [
       "Text(0, 0.5, 'Accuracy (in %)')"
      ]
     },
     "execution_count": 31,
     "metadata": {},
     "output_type": "execute_result"
    },
    {
     "data": {
      "image/png": "[encoded data removed]",
      "text/plain": [
       "<Figure size 432x288 with 1 Axes>"
      ]
     },
     "metadata": {
      "needs_background": "light"
     },
     "output_type": "display_data"
    }
   ],
   "source": [
    "plt.plot(lbl, acc)\n",
    "\n",
    "plt.xticks(rotation=90)\n",
    "plt.annotate(9, (lbl[8], max(acc)), arrowprops=dict(facecolor=\"Red\", shrink=0.05),)\n",
    "plt.annotate(10, (lbl[9], max(acc)), arrowprops=dict(facecolor=\"Red\", shrink=0.05),)\n",
    "plt.annotate(14, (lbl[13], max(acc)), arrowprops=dict(facecolor=\"Red\", shrink=0.05),)\n",
    "\n",
    "plt.xlabel('Feature Extraction Methods')\n",
    "plt.ylabel('Accuracy (in %)')"
   ]
  },
  {
   "cell_type": "code",
   "execution_count": 32,
   "metadata": {
    "scrolled": true
   },
   "outputs": [
    {
     "name": "stdout",
     "output_type": "stream",
     "text": [
      " IIIT-CFW :\n",
      "PCA with MLP : 52.38095238095239\n",
      "LDA with MLP : 96.42857142857143\n",
      "VGG with MLP : 72.02380952380952\n",
      "ResNet with MLP : 97.61904761904762\n",
      "Kernel PCA with MLP : 52.38095238095239\n",
      "Kernel LDA with MLP : 98.80952380952381\n",
      "VGG + PCA with MLP : 66.66666666666666\n",
      "ResNet + PCA with MLP : 96.42857142857143\n",
      "VGG + LDA with MLP : 97.61904761904762\n",
      "ResNet + LDA with MLP : 100.0\n",
      "VGG + Kernel PCA with MLP : 66.66666666666666\n",
      "ResNet + Kernel PCA with MLP : 96.42857142857143\n",
      "VGG + Kernel LDA with MLP : 96.42857142857143\n",
      "ResNet + Kernel LDA with MLP : 100.0\n"
     ]
    }
   ],
   "source": [
    "## For IIIT-CFW\n",
    "\n",
    "print(' IIIT-CFW :')\n",
    "acc1=[]\n",
    "lbl1= []\n",
    "\n",
    "test_accuracy, cm = MLP_PCA(X_1,y_1, 0.95, (1000,1000),350)\n",
    "print(\"PCA with MLP : \" + str(test_accuracy*100))\n",
    "acc1.append(test_accuracy*100)\n",
    "\n",
    "test_accuracy, cm = MLP_LDA(X_1,y_1, None, (1000,1000),350)\n",
    "print(\"LDA with MLP : \" + str(test_accuracy*100))\n",
    "acc1.append(test_accuracy*100)\n",
    "\n",
    "test_accuracy, cm = MLP_VGG(dirpath1,y_1, (1000,1000),350)\n",
    "print(\"VGG with MLP : \" + str(test_accuracy*100))\n",
    "acc1.append(test_accuracy*100)\n",
    "\n",
    "test_accuracy, cm = MLP_ResNet(dirpath1,y_1, (1000,1000),350)\n",
    "print(\"ResNet with MLP : \" + str(test_accuracy*100))\n",
    "acc1.append(test_accuracy*100)\n",
    "\n",
    "test_accuracy, cm = MLP_KPCA(X_1,y_1, 0.95, (1000,1000),350)\n",
    "print(\"Kernel PCA with MLP : \" + str(test_accuracy*100))\n",
    "acc1.append(test_accuracy*100)\n",
    "\n",
    "test_accuracy, cm = MLP_KLDA(X_1,y_1, None, (1000,1000),350)\n",
    "print(\"Kernel LDA with MLP : \" + str(test_accuracy*100))\n",
    "acc1.append(test_accuracy*100)\n",
    "\n",
    "X_k = get_vgg_features(dirpath1)\n",
    "test_accuracy, cm = MLP_PCA(X_k,y_1, 0.95, (1000,1000),350)\n",
    "print(\"VGG + PCA with MLP : \" + str(test_accuracy*100))\n",
    "acc1.append(test_accuracy*100)\n",
    "\n",
    "X_k = get_resnet_features(dirpath1)\n",
    "test_accuracy, cm = MLP_PCA(X_k,y_1, 0.95, (1000,1000),350)\n",
    "print(\"ResNet + PCA with MLP : \" + str(test_accuracy*100))\n",
    "acc1.append(test_accuracy*100)\n",
    "\n",
    "X_k = get_vgg_features(dirpath1)\n",
    "test_accuracy, cm = MLP_LDA(X_k,y_1, None, (1000,1000),350)\n",
    "print(\"VGG + LDA with MLP : \" + str(test_accuracy*100))\n",
    "acc1.append(test_accuracy*100)\n",
    "\n",
    "X_k = get_resnet_features(dirpath1)\n",
    "test_accuracy, cm = MLP_LDA(X_k,y_1, None, (1000,1000),350)\n",
    "print(\"ResNet + LDA with MLP : \" + str(test_accuracy*100))\n",
    "acc1.append(test_accuracy*100)\n",
    "\n",
    "X_k = get_vgg_features(dirpath1)\n",
    "test_accuracy, cm = MLP_KPCA(X_k,y_1, 0.95, (1000,1000),350)\n",
    "print(\"VGG + Kernel PCA with MLP : \" + str(test_accuracy*100))\n",
    "acc1.append(test_accuracy*100)\n",
    "\n",
    "X_k = get_resnet_features(dirpath1)\n",
    "test_accuracy, cm = MLP_KPCA(X_k,y_1, 0.95, (1000,1000),350)\n",
    "print(\"ResNet + Kernel PCA with MLP : \" + str(test_accuracy*100))\n",
    "acc1.append(test_accuracy*100)\n",
    "\n",
    "X_k = get_vgg_features(dirpath1)\n",
    "test_accuracy, cm = MLP_KLDA(X_k,y_1, None, (1000,1000),350)\n",
    "print(\"VGG + Kernel LDA with MLP : \" + str(test_accuracy*100))\n",
    "acc1.append(test_accuracy*100)\n",
    "\n",
    "X_k = get_resnet_features(dirpath1)\n",
    "test_accuracy, cm = MLP_KLDA(X_k,y_1, None, (1000,1000),350)\n",
    "print(\"ResNet + Kernel LDA with MLP : \" + str(test_accuracy*100))\n",
    "acc1.append(test_accuracy*100)\n",
    "\n"
   ]
  },
  {
   "cell_type": "code",
   "execution_count": 33,
   "metadata": {},
   "outputs": [
    {
     "data": {
      "text/plain": [
       "Text(0, 0.5, 'Accuracy (in %)')"
      ]
     },
     "execution_count": 33,
     "metadata": {},
     "output_type": "execute_result"
    },
    {
     "data": {
      "image/png": "[encoded data removed]",
      "text/plain": [
       "<Figure size 432x288 with 1 Axes>"
      ]
     },
     "metadata": {
      "needs_background": "light"
     },
     "output_type": "display_data"
    }
   ],
   "source": [
    "plt.plot(lbl, acc1)\n",
    "\n",
    "plt.xticks(rotation=90)\n",
    "plt.annotate(10, (lbl[9], max(acc1)), arrowprops=dict(facecolor=\"Red\", shrink=0.05),)\n",
    "plt.annotate(14, (lbl[13], max(acc1)), arrowprops=dict(facecolor=\"Red\", shrink=0.05),)\n",
    "\n",
    "plt.xlabel('Feature Extraction Methods')\n",
    "plt.ylabel('Accuracy (in %)')"
   ]
  },
  {
   "cell_type": "code",
   "execution_count": 34,
   "metadata": {
    "scrolled": true
   },
   "outputs": [
    {
     "name": "stdout",
     "output_type": "stream",
     "text": [
      " Yale Dataset : \n",
      "PCA with MLP : 85.71428571428571\n",
      "LDA with MLP : 100.0\n",
      "VGG with MLP : 50.0\n",
      "ResNet with MLP : 97.61904761904762\n",
      "Kernel PCA with MLP : 85.71428571428571\n",
      "Kernel LDA with MLP : 100.0\n",
      "VGG + PCA with MLP : 45.23809523809524\n",
      "ResNet + PCA with MLP : 100.0\n",
      "VGG + LDA with MLP : 100.0\n",
      "ResNet + LDA with MLP : 100.0\n",
      "VGG + Kernel PCA with MLP : 45.23809523809524\n",
      "ResNet + Kernel PCA with MLP : 100.0\n",
      "VGG + Kernel LDA with MLP : 78.57142857142857\n",
      "ResNet + Kernel LDA with MLP : 100.0\n"
     ]
    }
   ],
   "source": [
    "## For Yale Dataset\n",
    "\n",
    "print(' Yale Dataset : ')\n",
    "acc2=[]\n",
    "\n",
    "test_accuracy, cm = MLP_PCA(X_2,y_2, 0.95, (1000,1000),350)\n",
    "print(\"PCA with MLP : \" + str(test_accuracy*100))\n",
    "acc2.append(test_accuracy*100)\n",
    "\n",
    "test_accuracy, cm = MLP_LDA(X_2,y_2, None, (1000,1000),350)\n",
    "print(\"LDA with MLP : \" + str(test_accuracy*100))\n",
    "acc2.append(test_accuracy*100)\n",
    "\n",
    "test_accuracy, cm = MLP_VGG(dirpath2,y_2, (1000,1000),350)\n",
    "print(\"VGG with MLP : \" + str(test_accuracy*100))\n",
    "acc2.append(test_accuracy*100)\n",
    "\n",
    "test_accuracy, cm = MLP_ResNet(dirpath2,y_2, (1000,1000),350)\n",
    "print(\"ResNet with MLP : \" + str(test_accuracy*100))\n",
    "acc2.append(test_accuracy*100)\n",
    "\n",
    "test_accuracy, cm = MLP_KPCA(X_2,y_2, 0.95, (1000,1000),350)\n",
    "print(\"Kernel PCA with MLP : \" + str(test_accuracy*100))\n",
    "acc2.append(test_accuracy*100)\n",
    "\n",
    "test_accuracy, cm = MLP_KLDA(X_2,y_2, None, (1000,1000),350)\n",
    "print(\"Kernel LDA with MLP : \" + str(test_accuracy*100))\n",
    "acc2.append(test_accuracy*100)\n",
    "\n",
    "X_k = get_vgg_features(dirpath2)\n",
    "test_accuracy, cm = MLP_PCA(X_k,y_2, 0.95, (1000,1000),350)\n",
    "print(\"VGG + PCA with MLP : \" + str(test_accuracy*100))\n",
    "acc2.append(test_accuracy*100)\n",
    "\n",
    "X_k = get_resnet_features(dirpath2)\n",
    "test_accuracy, cm = MLP_PCA(X_k,y_2, 0.95, (1000,1000),350)\n",
    "print(\"ResNet + PCA with MLP : \" + str(test_accuracy*100))\n",
    "acc2.append(test_accuracy*100)\n",
    "\n",
    "X_k = get_vgg_features(dirpath2)\n",
    "test_accuracy, cm = MLP_LDA(X_2,y_2, None, (1000,1000),350)\n",
    "print(\"VGG + LDA with MLP : \" + str(test_accuracy*100))\n",
    "acc2.append(test_accuracy*100)\n",
    "\n",
    "X_k = get_resnet_features(dirpath2)\n",
    "test_accuracy, cm = MLP_LDA(X_2,y_2, None, (1000,1000),350)\n",
    "print(\"ResNet + LDA with MLP : \" + str(test_accuracy*100))\n",
    "acc2.append(test_accuracy*100)\n",
    "\n",
    "X_k = get_vgg_features(dirpath2)\n",
    "test_accuracy, cm = MLP_KPCA(X_k,y_2, 0.95, (1000,1000),350)\n",
    "print(\"VGG + Kernel PCA with MLP : \" + str(test_accuracy*100))\n",
    "acc2.append(test_accuracy*100)\n",
    "\n",
    "X_k = get_resnet_features(dirpath2)\n",
    "test_accuracy, cm = MLP_KPCA(X_k,y_2, 0.95, (1000,1000),350)\n",
    "print(\"ResNet + Kernel PCA with MLP : \" + str(test_accuracy*100))\n",
    "acc2.append(test_accuracy*100)\n",
    "\n",
    "X_k = get_vgg_features(dirpath2)\n",
    "test_accuracy, cm = MLP_KLDA(X_k,y_2, None, (1000,1000),350)\n",
    "print(\"VGG + Kernel LDA with MLP : \" + str(test_accuracy*100))\n",
    "acc2.append(test_accuracy*100)\n",
    "\n",
    "X_k = get_resnet_features(dirpath2)\n",
    "test_accuracy, cm = MLP_KLDA(X_k,y_2, None, (1000,1000),350)\n",
    "print(\"ResNet + Kernel LDA with MLP : \" + str(test_accuracy*100))\n",
    "acc2.append(test_accuracy*100)\n"
   ]
  },
  {
   "cell_type": "code",
   "execution_count": 35,
   "metadata": {
    "scrolled": false
   },
   "outputs": [
    {
     "data": {
      "text/plain": [
       "Text(0, 0.5, 'Accuracy (in %)')"
      ]
     },
     "execution_count": 35,
     "metadata": {},
     "output_type": "execute_result"
    },
    {
     "data": {
      "image/png": "[encoded data removed]",
      "text/plain": [
       "<Figure size 432x288 with 1 Axes>"
      ]
     },
     "metadata": {
      "needs_background": "light"
     },
     "output_type": "display_data"
    }
   ],
   "source": [
    "plt.plot(lbl, acc2)\n",
    "\n",
    "plt.xticks(rotation=90)\n",
    "for i in [1,3,5,7,8,9,11,13]:\n",
    "    plt.annotate(i+1, (lbl[i], max(acc2)), arrowprops=dict(facecolor=\"Red\", shrink=0.05),)\n",
    "\n",
    "plt.xlabel('Feature Extraction Methods')\n",
    "plt.ylabel('Accuracy (in %)')"
   ]
  },
  {
   "cell_type": "code",
   "execution_count": 36,
   "metadata": {},
   "outputs": [],
   "source": [
    "for i in range(len(acc)):\n",
    "    acc[i]= round(acc[i],2)\n",
    "    acc1[i]= round(acc1[i],2)\n",
    "    acc2[i]= round(acc2[i],2)"
   ]
  },
  {
   "cell_type": "code",
   "execution_count": 37,
   "metadata": {},
   "outputs": [
    {
     "data": {
      "text/html": [
       "<style  type=\"text/css\" >\n",
       "#T_94e41_row0_col0,#T_94e41_row0_col1,#T_94e41_row0_col2,#T_94e41_row0_col3,#T_94e41_row1_col0,#T_94e41_row1_col1,#T_94e41_row1_col2,#T_94e41_row2_col0,#T_94e41_row2_col1,#T_94e41_row2_col2,#T_94e41_row2_col3,#T_94e41_row3_col0,#T_94e41_row3_col1,#T_94e41_row3_col2,#T_94e41_row3_col3,#T_94e41_row4_col0,#T_94e41_row4_col1,#T_94e41_row4_col2,#T_94e41_row4_col3,#T_94e41_row5_col0,#T_94e41_row5_col1,#T_94e41_row5_col2,#T_94e41_row6_col0,#T_94e41_row6_col1,#T_94e41_row6_col2,#T_94e41_row6_col3,#T_94e41_row7_col0,#T_94e41_row7_col1,#T_94e41_row7_col2,#T_94e41_row8_col0,#T_94e41_row8_col2,#T_94e41_row9_col0,#T_94e41_row10_col0,#T_94e41_row10_col1,#T_94e41_row10_col2,#T_94e41_row10_col3,#T_94e41_row11_col0,#T_94e41_row11_col1,#T_94e41_row11_col2,#T_94e41_row12_col0,#T_94e41_row12_col1,#T_94e41_row12_col2,#T_94e41_row12_col3,#T_94e41_row13_col0{\n",
       "            color:  black;\n",
       "        }#T_94e41_row1_col3,#T_94e41_row5_col3,#T_94e41_row7_col3,#T_94e41_row8_col1,#T_94e41_row8_col3,#T_94e41_row9_col1,#T_94e41_row9_col2,#T_94e41_row9_col3,#T_94e41_row11_col3,#T_94e41_row13_col1,#T_94e41_row13_col2,#T_94e41_row13_col3{\n",
       "            color:  blue;\n",
       "        }</style><table id=\"T_94e41_\" ><thead>    <tr>        <th class=\"blank level0\" ></th>        <th class=\"col_heading level0 col0\" >Feature Extraction Method</th>        <th class=\"col_heading level0 col1\" >IMFDB</th>        <th class=\"col_heading level0 col2\" >IIIT-CFW</th>        <th class=\"col_heading level0 col3\" >Yale</th>    </tr></thead><tbody>\n",
       "                <tr>\n",
       "                        <th id=\"T_94e41_level0_row0\" class=\"row_heading level0 row0\" >0</th>\n",
       "                        <td id=\"T_94e41_row0_col0\" class=\"data row0 col0\" >PCA</td>\n",
       "                        <td id=\"T_94e41_row0_col1\" class=\"data row0 col1\" >74.000000</td>\n",
       "                        <td id=\"T_94e41_row0_col2\" class=\"data row0 col2\" >52.380000</td>\n",
       "                        <td id=\"T_94e41_row0_col3\" class=\"data row0 col3\" >85.710000</td>\n",
       "            </tr>\n",
       "            <tr>\n",
       "                        <th id=\"T_94e41_level0_row1\" class=\"row_heading level0 row1\" >1</th>\n",
       "                        <td id=\"T_94e41_row1_col0\" class=\"data row1 col0\" >LDA</td>\n",
       "                        <td id=\"T_94e41_row1_col1\" class=\"data row1 col1\" >97.000000</td>\n",
       "                        <td id=\"T_94e41_row1_col2\" class=\"data row1 col2\" >96.430000</td>\n",
       "                        <td id=\"T_94e41_row1_col3\" class=\"data row1 col3\" >100.000000</td>\n",
       "            </tr>\n",
       "            <tr>\n",
       "                        <th id=\"T_94e41_level0_row2\" class=\"row_heading level0 row2\" >2</th>\n",
       "                        <td id=\"T_94e41_row2_col0\" class=\"data row2 col0\" >VGG</td>\n",
       "                        <td id=\"T_94e41_row2_col1\" class=\"data row2 col1\" >87.000000</td>\n",
       "                        <td id=\"T_94e41_row2_col2\" class=\"data row2 col2\" >72.020000</td>\n",
       "                        <td id=\"T_94e41_row2_col3\" class=\"data row2 col3\" >50.000000</td>\n",
       "            </tr>\n",
       "            <tr>\n",
       "                        <th id=\"T_94e41_level0_row3\" class=\"row_heading level0 row3\" >3</th>\n",
       "                        <td id=\"T_94e41_row3_col0\" class=\"data row3 col0\" >ResNet</td>\n",
       "                        <td id=\"T_94e41_row3_col1\" class=\"data row3 col1\" >97.000000</td>\n",
       "                        <td id=\"T_94e41_row3_col2\" class=\"data row3 col2\" >97.620000</td>\n",
       "                        <td id=\"T_94e41_row3_col3\" class=\"data row3 col3\" >97.620000</td>\n",
       "            </tr>\n",
       "            <tr>\n",
       "                        <th id=\"T_94e41_level0_row4\" class=\"row_heading level0 row4\" >4</th>\n",
       "                        <td id=\"T_94e41_row4_col0\" class=\"data row4 col0\" >Kernel PCA</td>\n",
       "                        <td id=\"T_94e41_row4_col1\" class=\"data row4 col1\" >74.000000</td>\n",
       "                        <td id=\"T_94e41_row4_col2\" class=\"data row4 col2\" >52.380000</td>\n",
       "                        <td id=\"T_94e41_row4_col3\" class=\"data row4 col3\" >85.710000</td>\n",
       "            </tr>\n",
       "            <tr>\n",
       "                        <th id=\"T_94e41_level0_row5\" class=\"row_heading level0 row5\" >5</th>\n",
       "                        <td id=\"T_94e41_row5_col0\" class=\"data row5 col0\" >Kernel LDA</td>\n",
       "                        <td id=\"T_94e41_row5_col1\" class=\"data row5 col1\" >99.000000</td>\n",
       "                        <td id=\"T_94e41_row5_col2\" class=\"data row5 col2\" >98.810000</td>\n",
       "                        <td id=\"T_94e41_row5_col3\" class=\"data row5 col3\" >100.000000</td>\n",
       "            </tr>\n",
       "            <tr>\n",
       "                        <th id=\"T_94e41_level0_row6\" class=\"row_heading level0 row6\" >6</th>\n",
       "                        <td id=\"T_94e41_row6_col0\" class=\"data row6 col0\" >VGG + PCA</td>\n",
       "                        <td id=\"T_94e41_row6_col1\" class=\"data row6 col1\" >89.000000</td>\n",
       "                        <td id=\"T_94e41_row6_col2\" class=\"data row6 col2\" >66.670000</td>\n",
       "                        <td id=\"T_94e41_row6_col3\" class=\"data row6 col3\" >45.240000</td>\n",
       "            </tr>\n",
       "            <tr>\n",
       "                        <th id=\"T_94e41_level0_row7\" class=\"row_heading level0 row7\" >7</th>\n",
       "                        <td id=\"T_94e41_row7_col0\" class=\"data row7 col0\" >ResNet + PCA</td>\n",
       "                        <td id=\"T_94e41_row7_col1\" class=\"data row7 col1\" >97.000000</td>\n",
       "                        <td id=\"T_94e41_row7_col2\" class=\"data row7 col2\" >96.430000</td>\n",
       "                        <td id=\"T_94e41_row7_col3\" class=\"data row7 col3\" >100.000000</td>\n",
       "            </tr>\n",
       "            <tr>\n",
       "                        <th id=\"T_94e41_level0_row8\" class=\"row_heading level0 row8\" >8</th>\n",
       "                        <td id=\"T_94e41_row8_col0\" class=\"data row8 col0\" >VGG + LDA</td>\n",
       "                        <td id=\"T_94e41_row8_col1\" class=\"data row8 col1\" >100.000000</td>\n",
       "                        <td id=\"T_94e41_row8_col2\" class=\"data row8 col2\" >97.620000</td>\n",
       "                        <td id=\"T_94e41_row8_col3\" class=\"data row8 col3\" >100.000000</td>\n",
       "            </tr>\n",
       "            <tr>\n",
       "                        <th id=\"T_94e41_level0_row9\" class=\"row_heading level0 row9\" >9</th>\n",
       "                        <td id=\"T_94e41_row9_col0\" class=\"data row9 col0\" >ResNet + LDA</td>\n",
       "                        <td id=\"T_94e41_row9_col1\" class=\"data row9 col1\" >100.000000</td>\n",
       "                        <td id=\"T_94e41_row9_col2\" class=\"data row9 col2\" >100.000000</td>\n",
       "                        <td id=\"T_94e41_row9_col3\" class=\"data row9 col3\" >100.000000</td>\n",
       "            </tr>\n",
       "            <tr>\n",
       "                        <th id=\"T_94e41_level0_row10\" class=\"row_heading level0 row10\" >10</th>\n",
       "                        <td id=\"T_94e41_row10_col0\" class=\"data row10 col0\" >VGG + Kernel PCA</td>\n",
       "                        <td id=\"T_94e41_row10_col1\" class=\"data row10 col1\" >89.000000</td>\n",
       "                        <td id=\"T_94e41_row10_col2\" class=\"data row10 col2\" >66.670000</td>\n",
       "                        <td id=\"T_94e41_row10_col3\" class=\"data row10 col3\" >45.240000</td>\n",
       "            </tr>\n",
       "            <tr>\n",
       "                        <th id=\"T_94e41_level0_row11\" class=\"row_heading level0 row11\" >11</th>\n",
       "                        <td id=\"T_94e41_row11_col0\" class=\"data row11 col0\" >ResNet + Kernel PCA</td>\n",
       "                        <td id=\"T_94e41_row11_col1\" class=\"data row11 col1\" >97.000000</td>\n",
       "                        <td id=\"T_94e41_row11_col2\" class=\"data row11 col2\" >96.430000</td>\n",
       "                        <td id=\"T_94e41_row11_col3\" class=\"data row11 col3\" >100.000000</td>\n",
       "            </tr>\n",
       "            <tr>\n",
       "                        <th id=\"T_94e41_level0_row12\" class=\"row_heading level0 row12\" >12</th>\n",
       "                        <td id=\"T_94e41_row12_col0\" class=\"data row12 col0\" >VGG + Kernel LDA</td>\n",
       "                        <td id=\"T_94e41_row12_col1\" class=\"data row12 col1\" >99.000000</td>\n",
       "                        <td id=\"T_94e41_row12_col2\" class=\"data row12 col2\" >96.430000</td>\n",
       "                        <td id=\"T_94e41_row12_col3\" class=\"data row12 col3\" >78.570000</td>\n",
       "            </tr>\n",
       "            <tr>\n",
       "                        <th id=\"T_94e41_level0_row13\" class=\"row_heading level0 row13\" >13</th>\n",
       "                        <td id=\"T_94e41_row13_col0\" class=\"data row13 col0\" >ResNet + Kernel LDA</td>\n",
       "                        <td id=\"T_94e41_row13_col1\" class=\"data row13 col1\" >100.000000</td>\n",
       "                        <td id=\"T_94e41_row13_col2\" class=\"data row13 col2\" >100.000000</td>\n",
       "                        <td id=\"T_94e41_row13_col3\" class=\"data row13 col3\" >100.000000</td>\n",
       "            </tr>\n",
       "    </tbody></table>"
      ],
      "text/plain": [
       "<pandas.io.formats.style.Styler at 0x25793671b20>"
      ]
     },
     "execution_count": 37,
     "metadata": {},
     "output_type": "execute_result"
    }
   ],
   "source": [
    "\n",
    "\n",
    "df = pd.DataFrame()\n",
    "df = pd.DataFrame({'Feature Extraction Method': lbl})\n",
    "df['IMFDB'] = pd.DataFrame(acc)\n",
    "df['IIIT-CFW'] = pd.DataFrame(acc1)\n",
    "df['Yale'] = pd.DataFrame(acc2)\n",
    "\n",
    "def color_negative_red(val):\n",
    "    \"\"\"\n",
    "    Takes a scalar and returns a string with\n",
    "    the css property `'color: red'` for negative\n",
    "    strings, black otherwise.\n",
    "    \"\"\"\n",
    "    color = 'blue' if val == 100 else 'black'\n",
    "    return 'color: % s' % color\n",
    "\n",
    "df.round(2).style.applymap(color_negative_red)"
   ]
  },
  {
   "cell_type": "markdown",
   "metadata": {},
   "source": [
    "3.Similiar to 1(b) use t-SNE based visilization of faces?  Does it makesense?  Do you see similar people coming together?or something else?  Can you do visualization datasetwise and combined? "
   ]
  },
  {
   "cell_type": "code",
   "execution_count": 38,
   "metadata": {},
   "outputs": [],
   "source": [
    "## t-SNE \n",
    "\n",
    "def tSNE(X,y, k, title ):\n",
    "    X_TSNE = TSNE(n_components=k).fit_transform(X)\n",
    "    fig = plt.figure(figsize=(2,2))\n",
    "    ax = fig.add_subplot(111)\n",
    "    scatter = ax.scatter(np.real(X_TSNE[:,0]),np.real(X_TSNE[:,1]),c=y)\n",
    "    plt.title(title)"
   ]
  },
  {
   "cell_type": "code",
   "execution_count": 39,
   "metadata": {},
   "outputs": [
    {
     "name": "stdout",
     "output_type": "stream",
     "text": [
      "\n",
      " IMFDB : \n"
     ]
    },
    {
     "data": {
      "image/png": "[encoded data removed]",
      "text/plain": [
       "<Figure size 144x144 with 1 Axes>"
      ]
     },
     "metadata": {
      "needs_background": "light"
     },
     "output_type": "display_data"
    }
   ],
   "source": [
    "# t-SNE on IMFDB\n",
    "\n",
    "X_k = get_resnet_features(dirpath)\n",
    "X_k, klda = get_kernel_lda(X,y,7)\n",
    "print('\\n IMFDB : ')\n",
    "tSNE(X_k,y,2, 'IMFDB')"
   ]
  },
  {
   "cell_type": "code",
   "execution_count": 40,
   "metadata": {},
   "outputs": [
    {
     "name": "stdout",
     "output_type": "stream",
     "text": [
      "\n",
      " IIIT-CFW : \n"
     ]
    },
    {
     "data": {
      "image/png": "[encoded data removed]",
      "text/plain": [
       "<Figure size 144x144 with 1 Axes>"
      ]
     },
     "metadata": {
      "needs_background": "light"
     },
     "output_type": "display_data"
    }
   ],
   "source": [
    "# t-SNE on IIIT-CFW\n",
    "\n",
    "X_k, lda = get_lda(X_1,y_1,7)\n",
    "print('\\n IIIT-CFW : ')\n",
    "tSNE(X_k,y_1,2, 'IIIT-CFW')"
   ]
  },
  {
   "cell_type": "code",
   "execution_count": 41,
   "metadata": {},
   "outputs": [
    {
     "name": "stdout",
     "output_type": "stream",
     "text": [
      "\n",
      " Yale Database : \n"
     ]
    },
    {
     "data": {
      "image/png": "[encoded data removed]",
      "text/plain": [
       "<Figure size 144x144 with 1 Axes>"
      ]
     },
     "metadata": {
      "needs_background": "light"
     },
     "output_type": "display_data"
    }
   ],
   "source": [
    "# t-SNE on IIIT-CFW\n",
    "\n",
    "X_k, lda = get_kernel_lda(X_2,y_2,8)\n",
    "print('\\n Yale Database : ')\n",
    "tSNE(X_k,y_2,2,'Yale')"
   ]
  },
  {
   "cell_type": "markdown",
   "metadata": {},
   "source": [
    "4.`face`  is  used  for  verification.   \n",
    "\n",
    "4(a) How do we formulate the problem using KNN\n",
    "\n",
    "4(b) How do we analyze the performance ? suggest  the  metrics  (like  accuracy) that is appropriate for this task.\n",
    "\n",
    "4(c)Show empirical results  with  all  the  representations"
   ]
  },
  {
   "cell_type": "code",
   "execution_count": 42,
   "metadata": {},
   "outputs": [],
   "source": [
    "class KNN_Classifier:\n",
    "    def __init__(self,k):\n",
    "        self.knn = KNeighborsClassifier(n_neighbors=k)\n",
    "        \n",
    "    def training(self,X_train, y_train):\n",
    "        self.knn.fit(X_train,y_train)\n",
    "\n",
    "        \n",
    "    def validate(self,X_test,y_test ):\n",
    "        y_pred = self.knn.predict(X_test)\n",
    "        test_accuracy, f1, cm = self.confusion_matrix(X_test, y_test, y_pred )\n",
    "        return test_accuracy,f1, cm\n",
    "    \n",
    "    def confusion_matrix(self,X_test,y_test, y_pred):\n",
    "        cm = confusion_matrix(y_test,y_pred)\n",
    "        f1 = f1_score(y_test,y_pred, average='macro')\n",
    "        test_accuracy= self.knn.score(X_test,y_test)\n",
    "        return test_accuracy,f1, cm"
   ]
  },
  {
   "cell_type": "code",
   "execution_count": 43,
   "metadata": {},
   "outputs": [],
   "source": [
    "def KNN(X,y,k):\n",
    "    X_train, X_test,y_train,y_test = train_test_split(X,y, test_size = 0.25, random_state = 1)\n",
    "    obj = KNN_Classifier(k)\n",
    "    obj.training(X_train, y_train)\n",
    "    test_accuracy,f1, cm = obj.validate(X_test,y_test)\n",
    "    return test_accuracy, f1,cm"
   ]
  },
  {
   "cell_type": "code",
   "execution_count": 44,
   "metadata": {},
   "outputs": [],
   "source": [
    "## KNN with PCA\n",
    "\n",
    "def KNN_PCA(X, y, k_pca , k):\n",
    "    X_k, pca = get_pca(X,k_pca)\n",
    "    test_accuracy,f1, cm = KNN(X_k,y,k )\n",
    "    return test_accuracy, f1,cm\n",
    "\n",
    "\n",
    "## KNN with LDA\n",
    "\n",
    "def KNN_LDA(X, y,  k_lda, k):\n",
    "    X_k, lda = get_lda(X,y,k_lda)\n",
    "    test_accuracy,f1, cm = KNN(X_k, y,k )\n",
    "    return test_accuracy, f1,cm\n",
    "\n",
    "\n",
    "## KNN with KPCA\n",
    "\n",
    "def KNN_KPCA(X, y,  k_kpca , k):\n",
    "    X_k, pca = get_kernel_pca(X,k_kpca)\n",
    "    test_accuracy,f1, cm = KNN(X_k, y,k )\n",
    "    return test_accuracy,f1, cm\n",
    "\n",
    "## KNN with KLDA\n",
    "\n",
    "def KNN_KLDA(X, y,  k_klda , k):\n",
    "    X_k, lda = get_kernel_lda(X,y,k_klda)\n",
    "    test_accuracy,f1, cm = KNN(X_k, y,k )\n",
    "    return test_accuracy,f1, cm\n",
    "\n",
    "## KNN with VGG_Face\n",
    "\n",
    "def KNN_VGG(dirpath, y, k):\n",
    "    \n",
    "    X_k = get_vgg_features(dirpath)\n",
    "    test_accuracy, f1,cm = KNN(X_k, y,k)\n",
    "    return test_accuracy,f1, cm\n",
    "\n",
    "## KNN with ResNet_Face\n",
    "\n",
    "def KNN_ResNet(dirpath, y, k):\n",
    "    X_k = get_resnet_features(dirpath)\n",
    "    test_accuracy, f1,cm = KNN(X_k, y,k)\n",
    "    return test_accuracy,f1, cm"
   ]
  },
  {
   "cell_type": "code",
   "execution_count": 45,
   "metadata": {
    "scrolled": true
   },
   "outputs": [
    {
     "name": "stdout",
     "output_type": "stream",
     "text": [
      " IMFDB (k : 1)\n",
      "PCA with KNN : 69.0\n",
      "LDA with KNN : 98.0\n",
      "VGG with KNN : 90.0\n",
      "ResNet with KNN : 94.0\n",
      "Kernel PCA with KNN : 69.0\n",
      "Kernel LDA with KNN : 98.0\n",
      "VGG + PCA with KNN : 90.0\n",
      "ResNet + PCA with KNN : 95.0\n",
      "VGG + LDA with KNN : 100.0\n",
      "ResNet + LDA with KNN : 100.0\n",
      "VGG + Kernel PCA with KNN : 90.0\n",
      "ResNet + Kernel PCA with KNN : 95.0\n",
      "VGG + Kernel LDA with KNN : 99.0\n",
      "ResNet + Kernel LDA with KNN : 100.0\n"
     ]
    }
   ],
   "source": [
    "## For IMFDB\n",
    "\n",
    "k=1\n",
    "\n",
    "print(' IMFDB (k : ' + str(k)+')')\n",
    "acck =[]\n",
    "f1_1=[]\n",
    "lbl= []\n",
    "test_accuracy,f1, cm = KNN_PCA(X,y, 0.95, k)\n",
    "print(\"PCA with KNN : \" + str(test_accuracy*100))\n",
    "acck.append(test_accuracy*100)\n",
    "f1_1.append(f1*100)\n",
    "lbl.append('PCA')\n",
    "\n",
    "test_accuracy, f1,cm = KNN_LDA(X,y, None, k)\n",
    "print(\"LDA with KNN : \" + str(test_accuracy*100))\n",
    "acck.append(test_accuracy*100)\n",
    "f1_1.append(f1*100)\n",
    "lbl.append('LDA')\n",
    "\n",
    "test_accuracy,f1, cm = KNN_VGG(dirpath,y, k)\n",
    "print(\"VGG with KNN : \" + str(test_accuracy*100))\n",
    "acck.append(test_accuracy*100)\n",
    "lbl.append('VGG')\n",
    "f1_1.append(f1*100)\n",
    "\n",
    "test_accuracy,f1, cm = KNN_ResNet(dirpath,y, k)\n",
    "print(\"ResNet with KNN : \" + str(test_accuracy*100))\n",
    "acck.append(test_accuracy*100)\n",
    "lbl.append('ResNet')\n",
    "f1_1.append(f1*100)\n",
    "\n",
    "test_accuracy, f1,cm = KNN_KPCA(X,y, 0.95, k)\n",
    "print(\"Kernel PCA with KNN : \" + str(test_accuracy*100))\n",
    "acck.append(test_accuracy*100)\n",
    "lbl.append('Kernel PCA')\n",
    "f1_1.append(f1*100)\n",
    "\n",
    "test_accuracy, f1,cm = KNN_KLDA(X,y, None, k)\n",
    "print(\"Kernel LDA with KNN : \" + str(test_accuracy*100))\n",
    "acck.append(test_accuracy*100)\n",
    "lbl.append('Kernel LDA')\n",
    "f1_1.append(f1*100)\n",
    "\n",
    "X_k = get_vgg_features(dirpath)\n",
    "test_accuracy,f1, cm = KNN_PCA(X_k,y, 0.95, k)\n",
    "print(\"VGG + PCA with KNN : \" + str(test_accuracy*100))\n",
    "acck.append(test_accuracy*100)\n",
    "lbl.append('VGG + PCA')\n",
    "f1_1.append(f1*100)\n",
    "\n",
    "X_k = get_resnet_features(dirpath)\n",
    "test_accuracy,f1, cm = KNN_PCA(X_k,y, 0.95, k)\n",
    "print(\"ResNet + PCA with KNN : \" + str(test_accuracy*100))\n",
    "acck.append(test_accuracy*100)\n",
    "lbl.append('ResNet + PCA')\n",
    "f1_1.append(f1*100)\n",
    "\n",
    "\n",
    "X_k = get_vgg_features(dirpath)\n",
    "test_accuracy,f1, cm = KNN_LDA(X_k,y, None, k)\n",
    "print(\"VGG + LDA with KNN : \" + str(test_accuracy*100))\n",
    "acck.append(test_accuracy*100)\n",
    "lbl.append('VGG + LDA')\n",
    "f1_1.append(f1*100)\n",
    "\n",
    "X_k = get_resnet_features(dirpath)\n",
    "test_accuracy,f1, cm = KNN_LDA(X_k,y, None, k)\n",
    "print(\"ResNet + LDA with KNN : \" + str(test_accuracy*100))\n",
    "acck.append(test_accuracy*100)\n",
    "lbl.append('ResNet + LDA')\n",
    "f1_1.append(f1*100)\n",
    "\n",
    "X_k = get_vgg_features(dirpath)\n",
    "test_accuracy,f1, cm = KNN_KPCA(X_k,y, 0.95, k)\n",
    "print(\"VGG + Kernel PCA with KNN : \" + str(test_accuracy*100))\n",
    "acck.append(test_accuracy*100)\n",
    "lbl.append('VGG + Kernel PCA')\n",
    "f1_1.append(f1*100)\n",
    "\n",
    "X_k = get_resnet_features(dirpath)\n",
    "test_accuracy,f1, cm = KNN_KPCA(X_k,y, 0.95, k)\n",
    "print(\"ResNet + Kernel PCA with KNN : \" + str(test_accuracy*100))\n",
    "acck.append(test_accuracy*100)\n",
    "lbl.append('ResNet + Kernel PCA')\n",
    "f1_1.append(f1*100)\n",
    "\n",
    "X_k = get_vgg_features(dirpath)\n",
    "test_accuracy,f1, cm = KNN_KLDA(X_k,y, None, k)\n",
    "print(\"VGG + Kernel LDA with KNN : \" + str(test_accuracy*100))\n",
    "acck.append(test_accuracy*100)\n",
    "lbl.append('VGG + Kernel LDA')\n",
    "f1_1.append(f1*100)\n",
    "\n",
    "X_k = get_resnet_features(dirpath)\n",
    "test_accuracy,f1, cm = KNN_KLDA(X_k,y, None, k)\n",
    "print(\"ResNet + Kernel LDA with KNN : \" + str(test_accuracy*100))\n",
    "acck.append(test_accuracy*100)\n",
    "lbl.append('ResNet + Kernel LDA')\n",
    "f1_1.append(f1*100)\n"
   ]
  },
  {
   "cell_type": "code",
   "execution_count": 46,
   "metadata": {
    "scrolled": true
   },
   "outputs": [
    {
     "name": "stdout",
     "output_type": "stream",
     "text": [
      " IIIT-CFW (k : 10)\n",
      "PCA with KNN : 42.857142857142854\n",
      "LDA with KNN : 97.02380952380952\n",
      "VGG with KNN : 72.61904761904762\n",
      "ResNet with KNN : 98.21428571428571\n",
      "Kernel PCA with KNN : 42.857142857142854\n",
      "Kernel LDA with KNN : 98.80952380952381\n",
      "VGG + PCA with KNN : 74.40476190476191\n",
      "ResNet + PCA with KNN : 97.61904761904762\n",
      "VGG + LDA with KNN : 98.80952380952381\n",
      "ResNet + LDA with KNN : 100.0\n",
      "VGG + Kernel PCA with KNN : 74.40476190476191\n",
      "ResNet + Kernel PCA with KNN : 97.61904761904762\n",
      "VGG + Kernel LDA with KNN : 97.61904761904762\n",
      "ResNet + Kernel LDA with KNN : 100.0\n"
     ]
    }
   ],
   "source": [
    "## For IMFDB\n",
    "k=10\n",
    "\n",
    "print(' IIIT-CFW (k : ' + str(k)+')')\n",
    "\n",
    "acck1 =[]\n",
    "f1_1=[]\n",
    "lbl= []\n",
    "test_accuracy,f1, cm = KNN_PCA(X_1,y_1, 0.95, k)\n",
    "print(\"PCA with KNN : \" + str(test_accuracy*100))\n",
    "acck1.append(test_accuracy*100)\n",
    "f1_1.append(f1*100)\n",
    "lbl.append('PCA')\n",
    "\n",
    "test_accuracy, f1,cm = KNN_LDA(X_1,y_1, None, k)\n",
    "print(\"LDA with KNN : \" + str(test_accuracy*100))\n",
    "acck1.append(test_accuracy*100)\n",
    "f1_1.append(f1*100)\n",
    "lbl.append('LDA')\n",
    "\n",
    "test_accuracy,f1, cm = KNN_VGG(dirpath1,y_1, k)\n",
    "print(\"VGG with KNN : \" + str(test_accuracy*100))\n",
    "acck1.append(test_accuracy*100)\n",
    "lbl.append('VGG')\n",
    "f1_1.append(f1*100)\n",
    "\n",
    "test_accuracy,f1, cm = KNN_ResNet(dirpath1,y_1, k)\n",
    "print(\"ResNet with KNN : \" + str(test_accuracy*100))\n",
    "acck1.append(test_accuracy*100)\n",
    "lbl.append('ResNet')\n",
    "f1_1.append(f1*100)\n",
    "\n",
    "test_accuracy, f1,cm = KNN_KPCA(X_1,y_1, 0.95, k)\n",
    "print(\"Kernel PCA with KNN : \" + str(test_accuracy*100))\n",
    "acck1.append(test_accuracy*100)\n",
    "lbl.append('Kernel PCA')\n",
    "f1_1.append(f1*100)\n",
    "\n",
    "test_accuracy, f1,cm = KNN_KLDA(X_1,y_1, None, k)\n",
    "print(\"Kernel LDA with KNN : \" + str(test_accuracy*100))\n",
    "acck1.append(test_accuracy*100)\n",
    "lbl.append('Kernel LDA')\n",
    "f1_1.append(f1*100)\n",
    "\n",
    "X_k = get_vgg_features(dirpath1)\n",
    "test_accuracy,f1, cm = KNN_PCA(X_k,y_1, 0.95, k)\n",
    "print(\"VGG + PCA with KNN : \" + str(test_accuracy*100))\n",
    "acck1.append(test_accuracy*100)\n",
    "lbl.append('VGG + PCA')\n",
    "f1_1.append(f1*100)\n",
    "\n",
    "X_k = get_resnet_features(dirpath1)\n",
    "test_accuracy,f1, cm = KNN_PCA(X_k,y_1, 0.95, k)\n",
    "print(\"ResNet + PCA with KNN : \" + str(test_accuracy*100))\n",
    "acck1.append(test_accuracy*100)\n",
    "lbl.append('ResNet + PCA')\n",
    "f1_1.append(f1*100)\n",
    "\n",
    "\n",
    "X_k = get_vgg_features(dirpath1)\n",
    "test_accuracy,f1, cm = KNN_LDA(X_k,y_1, None, k)\n",
    "print(\"VGG + LDA with KNN : \" + str(test_accuracy*100))\n",
    "acck1.append(test_accuracy*100)\n",
    "lbl.append('VGG + LDA')\n",
    "f1_1.append(f1*100)\n",
    "\n",
    "X_k = get_resnet_features(dirpath1)\n",
    "test_accuracy,f1, cm = KNN_LDA(X_k,y_1, None, k)\n",
    "print(\"ResNet + LDA with KNN : \" + str(test_accuracy*100))\n",
    "acck1.append(test_accuracy*100)\n",
    "lbl.append('ResNet + LDA')\n",
    "f1_1.append(f1*100)\n",
    "\n",
    "X_k = get_vgg_features(dirpath1)\n",
    "test_accuracy,f1, cm = KNN_KPCA(X_k,y_1, 0.95, k)\n",
    "print(\"VGG + Kernel PCA with KNN : \" + str(test_accuracy*100))\n",
    "acck1.append(test_accuracy*100)\n",
    "lbl.append('VGG + Kernel PCA')\n",
    "f1_1.append(f1*100)\n",
    "\n",
    "X_k = get_resnet_features(dirpath1)\n",
    "test_accuracy,f1, cm = KNN_KPCA(X_k,y_1, 0.95, k)\n",
    "print(\"ResNet + Kernel PCA with KNN : \" + str(test_accuracy*100))\n",
    "acck1.append(test_accuracy*100)\n",
    "lbl.append('ResNet + Kernel PCA')\n",
    "f1_1.append(f1*100)\n",
    "\n",
    "X_k = get_vgg_features(dirpath1)\n",
    "test_accuracy,f1, cm = KNN_KLDA(X_k,y_1, None, k)\n",
    "print(\"VGG + Kernel LDA with KNN : \" + str(test_accuracy*100))\n",
    "acck1.append(test_accuracy*100)\n",
    "lbl.append('VGG + Kernel LDA')\n",
    "f1_1.append(f1*100)\n",
    "\n",
    "X_k = get_resnet_features(dirpath1)\n",
    "test_accuracy,f1, cm = KNN_KLDA(X_k,y_1, None, k)\n",
    "print(\"ResNet + Kernel LDA with KNN : \" + str(test_accuracy*100))\n",
    "acck1.append(test_accuracy*100)\n",
    "lbl.append('ResNet + Kernel LDA')\n",
    "f1_1.append(f1*100)\n"
   ]
  },
  {
   "cell_type": "code",
   "execution_count": 47,
   "metadata": {
    "scrolled": false
   },
   "outputs": [
    {
     "name": "stdout",
     "output_type": "stream",
     "text": [
      " Yale : (k : 3)\n",
      "3\n",
      "PCA with KNN : 85.71428571428571\n",
      "LDA with KNN : 100.0\n",
      "VGG with KNN : 50.0\n",
      "ResNet with KNN : 100.0\n",
      "Kernel PCA with KNN : 85.71428571428571\n",
      "Kernel LDA with KNN : 100.0\n",
      "VGG + PCA with KNN : 52.38095238095239\n",
      "ResNet + PCA with KNN : 100.0\n",
      "VGG + LDA with KNN : 83.33333333333334\n",
      "ResNet + LDA with KNN : 100.0\n",
      "VGG + Kernel PCA with KNN : 52.38095238095239\n",
      "ResNet + Kernel PCA with KNN : 100.0\n",
      "VGG + Kernel LDA with KNN : 85.71428571428571\n",
      "ResNet + Kernel LDA with KNN : 100.0\n"
     ]
    }
   ],
   "source": [
    "## For Yale\n",
    "\n",
    "k=3\n",
    "\n",
    "print(' Yale : (k : ' + str(k)+')')\n",
    "print(k)\n",
    "\n",
    "acck2 =[]\n",
    "f1_1=[]\n",
    "lbl= []\n",
    "test_accuracy,f1, cm = KNN_PCA(X_2,y_2, 0.95, k)\n",
    "print(\"PCA with KNN : \" + str(test_accuracy*100))\n",
    "acck2.append(test_accuracy*100)\n",
    "f1_1.append(f1*100)\n",
    "lbl.append('PCA')\n",
    "\n",
    "test_accuracy, f1,cm = KNN_LDA(X_2,y_2, None, k)\n",
    "print(\"LDA with KNN : \" + str(test_accuracy*100))\n",
    "acck2.append(test_accuracy*100)\n",
    "f1_1.append(f1*100)\n",
    "lbl.append('LDA')\n",
    "\n",
    "test_accuracy,f1, cm = KNN_VGG(dirpath2,y_2, k)\n",
    "print(\"VGG with KNN : \" + str(test_accuracy*100))\n",
    "acck2.append(test_accuracy*100)\n",
    "lbl.append('VGG')\n",
    "f1_1.append(f1*100)\n",
    "\n",
    "test_accuracy,f1, cm = KNN_ResNet(dirpath2,y_2, k)\n",
    "print(\"ResNet with KNN : \" + str(test_accuracy*100))\n",
    "acck2.append(test_accuracy*100)\n",
    "lbl.append('ResNet')\n",
    "f1_1.append(f1*100)\n",
    "\n",
    "test_accuracy, f1,cm = KNN_KPCA(X_2,y_2, 0.95, k)\n",
    "print(\"Kernel PCA with KNN : \" + str(test_accuracy*100))\n",
    "acck2.append(test_accuracy*100)\n",
    "lbl.append('Kernel PCA')\n",
    "f1_1.append(f1*100)\n",
    "\n",
    "test_accuracy, f1,cm = KNN_KLDA(X_2,y_2, None, k)\n",
    "print(\"Kernel LDA with KNN : \" + str(test_accuracy*100))\n",
    "acck2.append(test_accuracy*100)\n",
    "lbl.append('Kernel LDA')\n",
    "f1_1.append(f1*100)\n",
    "\n",
    "X_k = get_vgg_features(dirpath2)\n",
    "test_accuracy,f1, cm = KNN_PCA(X_k,y_2, 0.95, k)\n",
    "print(\"VGG + PCA with KNN : \" + str(test_accuracy*100))\n",
    "acck2.append(test_accuracy*100)\n",
    "lbl.append('VGG + PCA')\n",
    "f1_1.append(f1*100)\n",
    "\n",
    "X_k = get_resnet_features(dirpath2)\n",
    "test_accuracy,f1, cm = KNN_PCA(X_k,y_2, 0.95, k)\n",
    "print(\"ResNet + PCA with KNN : \" + str(test_accuracy*100))\n",
    "acck2.append(test_accuracy*100)\n",
    "lbl.append('ResNet + PCA')\n",
    "f1_1.append(f1*100)\n",
    "\n",
    "\n",
    "X_k = get_vgg_features(dirpath2)\n",
    "test_accuracy,f1, cm = KNN_LDA(X_k,y_2, None, k)\n",
    "print(\"VGG + LDA with KNN : \" + str(test_accuracy*100))\n",
    "acck2.append(test_accuracy*100)\n",
    "lbl.append('VGG + LDA')\n",
    "f1_1.append(f1*100)\n",
    "\n",
    "X_k = get_resnet_features(dirpath2)\n",
    "test_accuracy,f1, cm = KNN_LDA(X_k,y_2, None, k)\n",
    "print(\"ResNet + LDA with KNN : \" + str(test_accuracy*100))\n",
    "acck2.append(test_accuracy*100)\n",
    "lbl.append('ResNet + LDA')\n",
    "f1_1.append(f1*100)\n",
    "\n",
    "X_k = get_vgg_features(dirpath2)\n",
    "test_accuracy,f1, cm = KNN_KPCA(X_k,y_2, 0.95, k)\n",
    "print(\"VGG + Kernel PCA with KNN : \" + str(test_accuracy*100))\n",
    "acck2.append(test_accuracy*100)\n",
    "lbl.append('VGG + Kernel PCA')\n",
    "f1_1.append(f1*100)\n",
    "\n",
    "X_k = get_resnet_features(dirpath2)\n",
    "test_accuracy,f1, cm = KNN_KPCA(X_k,y_2, 0.95, k)\n",
    "print(\"ResNet + Kernel PCA with KNN : \" + str(test_accuracy*100))\n",
    "acck2.append(test_accuracy*100)\n",
    "lbl.append('ResNet + Kernel PCA')\n",
    "f1_1.append(f1*100)\n",
    "\n",
    "X_k = get_vgg_features(dirpath2)\n",
    "test_accuracy,f1, cm = KNN_KLDA(X_k,y_2, None, k)\n",
    "print(\"VGG + Kernel LDA with KNN : \" + str(test_accuracy*100))\n",
    "acck2.append(test_accuracy*100)\n",
    "lbl.append('VGG + Kernel LDA')\n",
    "f1_1.append(f1*100)\n",
    "\n",
    "X_k = get_resnet_features(dirpath2)\n",
    "test_accuracy,f1, cm = KNN_KLDA(X_k,y_2, None, k)\n",
    "print(\"ResNet + Kernel LDA with KNN : \" + str(test_accuracy*100))\n",
    "acck2.append(test_accuracy*100)\n",
    "lbl.append('ResNet + Kernel LDA')\n",
    "f1_1.append(f1*100)\n"
   ]
  },
  {
   "cell_type": "code",
   "execution_count": 48,
   "metadata": {},
   "outputs": [
    {
     "data": {
      "text/html": [
       "<style  type=\"text/css\" >\n",
       "#T_9b081_row0_col0,#T_9b081_row0_col1,#T_9b081_row0_col2,#T_9b081_row0_col3,#T_9b081_row1_col0,#T_9b081_row1_col1,#T_9b081_row1_col2,#T_9b081_row2_col0,#T_9b081_row2_col1,#T_9b081_row2_col2,#T_9b081_row2_col3,#T_9b081_row3_col0,#T_9b081_row3_col1,#T_9b081_row3_col2,#T_9b081_row4_col0,#T_9b081_row4_col1,#T_9b081_row4_col2,#T_9b081_row4_col3,#T_9b081_row5_col0,#T_9b081_row5_col1,#T_9b081_row5_col2,#T_9b081_row6_col0,#T_9b081_row6_col1,#T_9b081_row6_col2,#T_9b081_row6_col3,#T_9b081_row7_col0,#T_9b081_row7_col1,#T_9b081_row7_col2,#T_9b081_row8_col0,#T_9b081_row8_col2,#T_9b081_row8_col3,#T_9b081_row9_col0,#T_9b081_row10_col0,#T_9b081_row10_col1,#T_9b081_row10_col2,#T_9b081_row10_col3,#T_9b081_row11_col0,#T_9b081_row11_col1,#T_9b081_row11_col2,#T_9b081_row12_col0,#T_9b081_row12_col1,#T_9b081_row12_col2,#T_9b081_row12_col3,#T_9b081_row13_col0{\n",
       "            color:  black;\n",
       "        }#T_9b081_row1_col3,#T_9b081_row3_col3,#T_9b081_row5_col3,#T_9b081_row7_col3,#T_9b081_row8_col1,#T_9b081_row9_col1,#T_9b081_row9_col2,#T_9b081_row9_col3,#T_9b081_row11_col3,#T_9b081_row13_col1,#T_9b081_row13_col2,#T_9b081_row13_col3{\n",
       "            color:  blue;\n",
       "        }</style><table id=\"T_9b081_\" ><thead>    <tr>        <th class=\"blank level0\" ></th>        <th class=\"col_heading level0 col0\" >Feature Extraction Method</th>        <th class=\"col_heading level0 col1\" >IMFDB (k=1)</th>        <th class=\"col_heading level0 col2\" >IIIT-CFW (k=10)</th>        <th class=\"col_heading level0 col3\" >Yale (k=3)</th>    </tr></thead><tbody>\n",
       "                <tr>\n",
       "                        <th id=\"T_9b081_level0_row0\" class=\"row_heading level0 row0\" >0</th>\n",
       "                        <td id=\"T_9b081_row0_col0\" class=\"data row0 col0\" >PCA</td>\n",
       "                        <td id=\"T_9b081_row0_col1\" class=\"data row0 col1\" >69.000000</td>\n",
       "                        <td id=\"T_9b081_row0_col2\" class=\"data row0 col2\" >42.860000</td>\n",
       "                        <td id=\"T_9b081_row0_col3\" class=\"data row0 col3\" >85.710000</td>\n",
       "            </tr>\n",
       "            <tr>\n",
       "                        <th id=\"T_9b081_level0_row1\" class=\"row_heading level0 row1\" >1</th>\n",
       "                        <td id=\"T_9b081_row1_col0\" class=\"data row1 col0\" >LDA</td>\n",
       "                        <td id=\"T_9b081_row1_col1\" class=\"data row1 col1\" >98.000000</td>\n",
       "                        <td id=\"T_9b081_row1_col2\" class=\"data row1 col2\" >97.020000</td>\n",
       "                        <td id=\"T_9b081_row1_col3\" class=\"data row1 col3\" >100.000000</td>\n",
       "            </tr>\n",
       "            <tr>\n",
       "                        <th id=\"T_9b081_level0_row2\" class=\"row_heading level0 row2\" >2</th>\n",
       "                        <td id=\"T_9b081_row2_col0\" class=\"data row2 col0\" >VGG</td>\n",
       "                        <td id=\"T_9b081_row2_col1\" class=\"data row2 col1\" >90.000000</td>\n",
       "                        <td id=\"T_9b081_row2_col2\" class=\"data row2 col2\" >72.620000</td>\n",
       "                        <td id=\"T_9b081_row2_col3\" class=\"data row2 col3\" >50.000000</td>\n",
       "            </tr>\n",
       "            <tr>\n",
       "                        <th id=\"T_9b081_level0_row3\" class=\"row_heading level0 row3\" >3</th>\n",
       "                        <td id=\"T_9b081_row3_col0\" class=\"data row3 col0\" >ResNet</td>\n",
       "                        <td id=\"T_9b081_row3_col1\" class=\"data row3 col1\" >94.000000</td>\n",
       "                        <td id=\"T_9b081_row3_col2\" class=\"data row3 col2\" >98.210000</td>\n",
       "                        <td id=\"T_9b081_row3_col3\" class=\"data row3 col3\" >100.000000</td>\n",
       "            </tr>\n",
       "            <tr>\n",
       "                        <th id=\"T_9b081_level0_row4\" class=\"row_heading level0 row4\" >4</th>\n",
       "                        <td id=\"T_9b081_row4_col0\" class=\"data row4 col0\" >Kernel PCA</td>\n",
       "                        <td id=\"T_9b081_row4_col1\" class=\"data row4 col1\" >69.000000</td>\n",
       "                        <td id=\"T_9b081_row4_col2\" class=\"data row4 col2\" >42.860000</td>\n",
       "                        <td id=\"T_9b081_row4_col3\" class=\"data row4 col3\" >85.710000</td>\n",
       "            </tr>\n",
       "            <tr>\n",
       "                        <th id=\"T_9b081_level0_row5\" class=\"row_heading level0 row5\" >5</th>\n",
       "                        <td id=\"T_9b081_row5_col0\" class=\"data row5 col0\" >Kernel LDA</td>\n",
       "                        <td id=\"T_9b081_row5_col1\" class=\"data row5 col1\" >98.000000</td>\n",
       "                        <td id=\"T_9b081_row5_col2\" class=\"data row5 col2\" >98.810000</td>\n",
       "                        <td id=\"T_9b081_row5_col3\" class=\"data row5 col3\" >100.000000</td>\n",
       "            </tr>\n",
       "            <tr>\n",
       "                        <th id=\"T_9b081_level0_row6\" class=\"row_heading level0 row6\" >6</th>\n",
       "                        <td id=\"T_9b081_row6_col0\" class=\"data row6 col0\" >VGG + PCA</td>\n",
       "                        <td id=\"T_9b081_row6_col1\" class=\"data row6 col1\" >90.000000</td>\n",
       "                        <td id=\"T_9b081_row6_col2\" class=\"data row6 col2\" >74.400000</td>\n",
       "                        <td id=\"T_9b081_row6_col3\" class=\"data row6 col3\" >52.380000</td>\n",
       "            </tr>\n",
       "            <tr>\n",
       "                        <th id=\"T_9b081_level0_row7\" class=\"row_heading level0 row7\" >7</th>\n",
       "                        <td id=\"T_9b081_row7_col0\" class=\"data row7 col0\" >ResNet + PCA</td>\n",
       "                        <td id=\"T_9b081_row7_col1\" class=\"data row7 col1\" >95.000000</td>\n",
       "                        <td id=\"T_9b081_row7_col2\" class=\"data row7 col2\" >97.620000</td>\n",
       "                        <td id=\"T_9b081_row7_col3\" class=\"data row7 col3\" >100.000000</td>\n",
       "            </tr>\n",
       "            <tr>\n",
       "                        <th id=\"T_9b081_level0_row8\" class=\"row_heading level0 row8\" >8</th>\n",
       "                        <td id=\"T_9b081_row8_col0\" class=\"data row8 col0\" >VGG + LDA</td>\n",
       "                        <td id=\"T_9b081_row8_col1\" class=\"data row8 col1\" >100.000000</td>\n",
       "                        <td id=\"T_9b081_row8_col2\" class=\"data row8 col2\" >98.810000</td>\n",
       "                        <td id=\"T_9b081_row8_col3\" class=\"data row8 col3\" >83.330000</td>\n",
       "            </tr>\n",
       "            <tr>\n",
       "                        <th id=\"T_9b081_level0_row9\" class=\"row_heading level0 row9\" >9</th>\n",
       "                        <td id=\"T_9b081_row9_col0\" class=\"data row9 col0\" >ResNet + LDA</td>\n",
       "                        <td id=\"T_9b081_row9_col1\" class=\"data row9 col1\" >100.000000</td>\n",
       "                        <td id=\"T_9b081_row9_col2\" class=\"data row9 col2\" >100.000000</td>\n",
       "                        <td id=\"T_9b081_row9_col3\" class=\"data row9 col3\" >100.000000</td>\n",
       "            </tr>\n",
       "            <tr>\n",
       "                        <th id=\"T_9b081_level0_row10\" class=\"row_heading level0 row10\" >10</th>\n",
       "                        <td id=\"T_9b081_row10_col0\" class=\"data row10 col0\" >VGG + Kernel PCA</td>\n",
       "                        <td id=\"T_9b081_row10_col1\" class=\"data row10 col1\" >90.000000</td>\n",
       "                        <td id=\"T_9b081_row10_col2\" class=\"data row10 col2\" >74.400000</td>\n",
       "                        <td id=\"T_9b081_row10_col3\" class=\"data row10 col3\" >52.380000</td>\n",
       "            </tr>\n",
       "            <tr>\n",
       "                        <th id=\"T_9b081_level0_row11\" class=\"row_heading level0 row11\" >11</th>\n",
       "                        <td id=\"T_9b081_row11_col0\" class=\"data row11 col0\" >ResNet + Kernel PCA</td>\n",
       "                        <td id=\"T_9b081_row11_col1\" class=\"data row11 col1\" >95.000000</td>\n",
       "                        <td id=\"T_9b081_row11_col2\" class=\"data row11 col2\" >97.620000</td>\n",
       "                        <td id=\"T_9b081_row11_col3\" class=\"data row11 col3\" >100.000000</td>\n",
       "            </tr>\n",
       "            <tr>\n",
       "                        <th id=\"T_9b081_level0_row12\" class=\"row_heading level0 row12\" >12</th>\n",
       "                        <td id=\"T_9b081_row12_col0\" class=\"data row12 col0\" >VGG + Kernel LDA</td>\n",
       "                        <td id=\"T_9b081_row12_col1\" class=\"data row12 col1\" >99.000000</td>\n",
       "                        <td id=\"T_9b081_row12_col2\" class=\"data row12 col2\" >97.620000</td>\n",
       "                        <td id=\"T_9b081_row12_col3\" class=\"data row12 col3\" >85.710000</td>\n",
       "            </tr>\n",
       "            <tr>\n",
       "                        <th id=\"T_9b081_level0_row13\" class=\"row_heading level0 row13\" >13</th>\n",
       "                        <td id=\"T_9b081_row13_col0\" class=\"data row13 col0\" >ResNet + Kernel LDA</td>\n",
       "                        <td id=\"T_9b081_row13_col1\" class=\"data row13 col1\" >100.000000</td>\n",
       "                        <td id=\"T_9b081_row13_col2\" class=\"data row13 col2\" >100.000000</td>\n",
       "                        <td id=\"T_9b081_row13_col3\" class=\"data row13 col3\" >100.000000</td>\n",
       "            </tr>\n",
       "    </tbody></table>"
      ],
      "text/plain": [
       "<pandas.io.formats.style.Styler at 0x25793c22ac0>"
      ]
     },
     "execution_count": 48,
     "metadata": {},
     "output_type": "execute_result"
    }
   ],
   "source": [
    "\n",
    "df = pd.DataFrame()\n",
    "df = pd.DataFrame({'Feature Extraction Method': lbl})\n",
    "df['IMFDB (k=1)'] = pd.DataFrame(acck)\n",
    "df['IIIT-CFW (k=10)'] = pd.DataFrame(acck1)\n",
    "df['Yale (k=3)'] = pd.DataFrame(acck2)\n",
    "\n",
    "def color_negative_red(val):\n",
    "    \"\"\"\n",
    "    Takes a scalar and returns a string with\n",
    "    the css property `'color: red'` for negative\n",
    "    strings, black otherwise.\n",
    "    \"\"\"\n",
    "    color = 'blue' if val == 100 else 'black'\n",
    "    return 'color: % s' % color\n",
    "\n",
    "df.round(2).style.applymap(color_negative_red)"
   ]
  }
 ],
 "metadata": {
  "kernelspec": {
   "display_name": "Python 3",
   "language": "python",
   "name": "python3"
  },
  "language_info": {
   "codemirror_mode": {
    "name": "ipython",
    "version": 3
   },
   "file_extension": ".py",
   "mimetype": "text/x-python",
   "name": "python",
   "nbconvert_exporter": "python",
   "pygments_lexer": "ipython3",
   "version": "3.8.8"
  }
 },
 "nbformat": 4,
 "nbformat_minor": 4
}
